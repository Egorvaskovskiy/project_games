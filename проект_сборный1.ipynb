{
 "cells": [
  {
   "cell_type": "markdown",
   "metadata": {},
   "source": [
    "<div style=\"border:solid Chocolate 2px; padding: 40px\">\n",
    "\n",
    "Егор, привет, меня зовут Станислав, и я буду проверять твой проект. Предлагаю общаться на «ты», но если это неудобно - дай знать, и мы перейдем на «вы».\n",
    "Это учебный проект и здесь не стоит бояться делать ошибки, я хочу поделиться своим опытом и помочь тебе стать аналитиком данных.\n",
    "Уже выполнена большая работа над проектом, давай сделаем его еще лучше. Ниже ты найдешь мои комментарии - пожалуйста, не перемещай, не изменяй и не удаляй их. Я буду использовать цветовую разметку:\n",
    "\n",
    "<div class=\"alert alert-danger\">\n",
    "<b>Комментарий с замечанием ревьюера:</b> Так выделены самые важные замечания. Как только ты их исправишь проект будет принят. </div>\n",
    "\n",
    "<div class=\"alert alert-warning\">\n",
    "<b>Комментарий с небольшим замечанием или советом ревьюера:</b> Так выделены небольшие замечания или советы. \n",
    "</div>\n",
    "\n",
    "<div class=\"alert alert-success\">\n",
    "<b>Комментарий с комплиментом ревьюера:</b> Так я выделяю все остальные комментарии.</div>\n",
    "\n",
    "Давай работать над проектом в диалоге: если ты что-то меняешь в проекте или отвечаешь на мои комментарии — пиши об этом.\n",
    "Мне будет легче отследить изменения, если ты выделишь свои комментарии:\n",
    "<div class=\"alert alert-info\"> <b>Комментарий студента:</b> Например, вот так.</div>\n",
    "Всё это поможет выполнить повторную проверку твоего проекта оперативнее.\n",
    "</div>\n"
   ]
  },
  {
   "cell_type": "markdown",
   "metadata": {},
   "source": [
    "<div style=\"border:solid Chocolate 2px; padding: 40px\">\n",
    "\n",
    "# Общий вывод ревьюера по проекту\n",
    "\n",
    "<div class=\"alert alert-success\">\n",
    "Ты проделал хорошую аналитическую работу. Код написан чисто, соблюдена структура проекта и написаны логичные и обоснованные выводы. Есть несколько замечаний, исправь их и проект будет принят.\n",
    "</div>\n",
    "\n",
    "<div class=\"alert alert-danger\">\n",
    "    \n",
    "- заполни пропуски в столбце rating специальным значением и проанализируй их при составлении портрета пользователя\n",
    "\n",
    "- сократи актуальный период    \n",
    "    \n",
    "- не забывай, что после того как ты определил актуальный период, в следующих шагах следует использовать только его\n",
    "    \n",
    "- скорректируй, пожалуйста, анализ прибыльных жанров\n",
    "    \n",
    "- скорректируй график box plot\n",
    "    \n",
    "- скорректируй оформление график в проекте.\n",
    "\n",
    "</div>\n",
    "</div>"
   ]
  },
  {
   "cell_type": "markdown",
   "metadata": {},
   "source": [
    "<div style=\"border:solid Chocolate 2px; padding: 40px\">\n",
    "\n",
    "# Общий вывод ревьюера по проекту в2\n",
    "\n",
    "<div class=\"alert alert-success\">\n",
    "\n",
    "    \n",
    "Отлично, все критические замечания скорректированны, молодец!\n",
    "    \n",
    "Работу принимаю и желаю успеха в следующих проектах!\n",
    "</div>\n"
   ]
  },
  {
   "cell_type": "markdown",
   "metadata": {},
   "source": [
    "# Исследование рынка видеоигр\n",
    "\n",
    "Вы работаете в интернет-магазине «Стримчик», который продаёт по всему миру компьютерные игры. Перед вами данные о продажах игр, оценки пользователей и экспертов, жанры и платформы (например, Xbox или PlayStation) до 2016 года. Представим, что сейчас декабрь 2016 г., и вы планируете кампанию на 2017-й. Нужно отработать принцип работы с данными. Неважно, прогнозируете ли вы продажи на 2017 год по данным 2016-го или же 2027-й — по данным 2026 года.\n",
    "\n",
    "**Цель исследования:**\n",
    "1. Выявить определяющие успешность игры закономерности\n",
    "2. Составить портрет пользователя в каждом регионе\n",
    "\n",
    "**Ход исследования:**\n",
    "Для начала надо получить данные из файла `/datasets/games.csv`. Известно, что данные за 2016 год могут быть неполными, поэтому перед началом исследования необходимо провести обзор данных и предобработку. \n",
    "\n",
    "Я планирую проверить данные на наличие различного рода ошибок, а также оценю их влияние на исследование - пропуски, дубликаты (явные и неявные), неверный тип данных, а также аномальные значения (выбросы) в данных. После этого я поищу возможность исправить ошибки, которые не приведут к искажению конечного результата. Далее будут добавлены необходимые для исследования столбцы в таблице и я смогу приступить к исследовательскому анализу данных. \n",
    "\n",
    "На этапе исследовательского анализа данных будет выбран **актуальный период**, на основе которого и будет строиться дальнейшее исследование. Также будет проведен анализ жанров - какой характерный срок появления новых и исчезновения старых платформ, выделены потенциально прибыльные платформы. Далее будет рассмотрена зависимость продаж от отзывов пользователей и критиков. После этого будет проанализировано распределение по жанрам, выделены самые успешные и не успешные жанры. \n",
    "\n",
    "На основе полученных результатов можно будет составить портрет пользователя в каждом регионе - самые популярные платформы и жанры игр для североамериканского (NA), европейского (EU) и японского (JP) регионов, а также будет определено влияние ESRB (Entertainment Software Rating Board) — это ассоциация, определяющая возрастной рейтинг компьютерных игр) на продажи в отдельном регионе.\n",
    "\n",
    "Следующий этап - Статистический анализ данных. Будут проверены две гипотезы:\n",
    "- Средние пользовательские рейтинги платформ Xbox One и PC одинаковые;\n",
    "- Средние пользовательские рейтинги жанров Action (англ. «действие», экшен-игры) и Sports (англ. «спортивные соревнования») разные.\n",
    "\n",
    "Таким образом исследование пройдет в восемь этапов:\n",
    "- Обзор данных\n",
    "- Предобработка данных\n",
    "- Расчеты и добавление новых столбцов в таблицу\n",
    "- Определение актуального периода для анализа\n",
    "- Проведение анализа по платформам и жанрам\n",
    "- Составление портрета пользователя в каждом регионе\n",
    "- Проверка гипотез\n",
    "- Написание общего вывода"
   ]
  },
  {
   "cell_type": "markdown",
   "metadata": {},
   "source": [
    "<div class=\"alert alert-success\">\n",
    "<b>Комментарий с комплиментом ревьюера:</b> \n",
    "    \n",
    "Здорово, что описал цель проекта и выделила содержание. \n",
    "\n",
    "Еще можно добавить описание данных.\n",
    "</div>\n"
   ]
  },
  {
   "cell_type": "markdown",
   "metadata": {},
   "source": [
    "## Откройте файл с данными и изучите общую информацию\n",
    "\n",
    "Для начала произведем импорт всех необходимых для проекта библиотек. Далее сохраним данные из файла в переменной `data` :"
   ]
  },
  {
   "cell_type": "code",
   "execution_count": 1,
   "metadata": {},
   "outputs": [],
   "source": [
    "import pandas as pd\n",
    "import numpy as np\n",
    "import matplotlib as plt\n",
    "import seaborn as sb\n",
    "from scipy import stats as st\n",
    "from math import factorial as fct"
   ]
  },
  {
   "cell_type": "code",
   "execution_count": 2,
   "metadata": {},
   "outputs": [],
   "source": [
    "data = pd.read_csv('/datasets/games.csv')"
   ]
  },
  {
   "cell_type": "markdown",
   "metadata": {},
   "source": [
    "<div class=\"alert alert-warning\">\n",
    "<b>Комментарий с советом ревьюера:</b> \n",
    "    \n",
    "Обрати, пожалуйста, внимание, что загрузку датасета и импорт библиотек лучше выделять в отдельные ячейки. Если в процессе работы ты поймешь, что тебе надо импортировать дополнительную библиотеку, тебе не надо будет заново дополнительно загружать датасет.\n",
    "</div>\n"
   ]
  },
  {
   "cell_type": "markdown",
   "metadata": {},
   "source": [
    "<div class=\"alert alert-info\"> <b>Комментарий студента:</b> Подправил</div>"
   ]
  },
  {
   "cell_type": "markdown",
   "metadata": {},
   "source": [
    "<div class=\"alert alert-success\">\n",
    "<b>Комментарий с комплиментом ревьюера в2:</b> \n",
    "\n",
    "Отлично\n",
    "</div> "
   ]
  },
  {
   "cell_type": "markdown",
   "metadata": {},
   "source": [
    "Рассмотрим общую информацию о таблице с помощью метода `.info()` : "
   ]
  },
  {
   "cell_type": "code",
   "execution_count": 3,
   "metadata": {},
   "outputs": [
    {
     "name": "stdout",
     "output_type": "stream",
     "text": [
      "<class 'pandas.core.frame.DataFrame'>\n",
      "RangeIndex: 16715 entries, 0 to 16714\n",
      "Data columns (total 11 columns):\n",
      " #   Column           Non-Null Count  Dtype  \n",
      "---  ------           --------------  -----  \n",
      " 0   Name             16713 non-null  object \n",
      " 1   Platform         16715 non-null  object \n",
      " 2   Year_of_Release  16446 non-null  float64\n",
      " 3   Genre            16713 non-null  object \n",
      " 4   NA_sales         16715 non-null  float64\n",
      " 5   EU_sales         16715 non-null  float64\n",
      " 6   JP_sales         16715 non-null  float64\n",
      " 7   Other_sales      16715 non-null  float64\n",
      " 8   Critic_Score     8137 non-null   float64\n",
      " 9   User_Score       10014 non-null  object \n",
      " 10  Rating           9949 non-null   object \n",
      "dtypes: float64(6), object(5)\n",
      "memory usage: 1.4+ MB\n"
     ]
    }
   ],
   "source": [
    "data.info()"
   ]
  },
  {
   "cell_type": "markdown",
   "metadata": {},
   "source": [
    "И выведем первые 5 строк таблицы:"
   ]
  },
  {
   "cell_type": "code",
   "execution_count": 4,
   "metadata": {},
   "outputs": [
    {
     "data": {
      "text/html": [
       "<div>\n",
       "<style scoped>\n",
       "    .dataframe tbody tr th:only-of-type {\n",
       "        vertical-align: middle;\n",
       "    }\n",
       "\n",
       "    .dataframe tbody tr th {\n",
       "        vertical-align: top;\n",
       "    }\n",
       "\n",
       "    .dataframe thead th {\n",
       "        text-align: right;\n",
       "    }\n",
       "</style>\n",
       "<table border=\"1\" class=\"dataframe\">\n",
       "  <thead>\n",
       "    <tr style=\"text-align: right;\">\n",
       "      <th></th>\n",
       "      <th>Name</th>\n",
       "      <th>Platform</th>\n",
       "      <th>Year_of_Release</th>\n",
       "      <th>Genre</th>\n",
       "      <th>NA_sales</th>\n",
       "      <th>EU_sales</th>\n",
       "      <th>JP_sales</th>\n",
       "      <th>Other_sales</th>\n",
       "      <th>Critic_Score</th>\n",
       "      <th>User_Score</th>\n",
       "      <th>Rating</th>\n",
       "    </tr>\n",
       "  </thead>\n",
       "  <tbody>\n",
       "    <tr>\n",
       "      <th>0</th>\n",
       "      <td>Wii Sports</td>\n",
       "      <td>Wii</td>\n",
       "      <td>2006.0</td>\n",
       "      <td>Sports</td>\n",
       "      <td>41.36</td>\n",
       "      <td>28.96</td>\n",
       "      <td>3.77</td>\n",
       "      <td>8.45</td>\n",
       "      <td>76.0</td>\n",
       "      <td>8</td>\n",
       "      <td>E</td>\n",
       "    </tr>\n",
       "    <tr>\n",
       "      <th>1</th>\n",
       "      <td>Super Mario Bros.</td>\n",
       "      <td>NES</td>\n",
       "      <td>1985.0</td>\n",
       "      <td>Platform</td>\n",
       "      <td>29.08</td>\n",
       "      <td>3.58</td>\n",
       "      <td>6.81</td>\n",
       "      <td>0.77</td>\n",
       "      <td>NaN</td>\n",
       "      <td>NaN</td>\n",
       "      <td>NaN</td>\n",
       "    </tr>\n",
       "    <tr>\n",
       "      <th>2</th>\n",
       "      <td>Mario Kart Wii</td>\n",
       "      <td>Wii</td>\n",
       "      <td>2008.0</td>\n",
       "      <td>Racing</td>\n",
       "      <td>15.68</td>\n",
       "      <td>12.76</td>\n",
       "      <td>3.79</td>\n",
       "      <td>3.29</td>\n",
       "      <td>82.0</td>\n",
       "      <td>8.3</td>\n",
       "      <td>E</td>\n",
       "    </tr>\n",
       "    <tr>\n",
       "      <th>3</th>\n",
       "      <td>Wii Sports Resort</td>\n",
       "      <td>Wii</td>\n",
       "      <td>2009.0</td>\n",
       "      <td>Sports</td>\n",
       "      <td>15.61</td>\n",
       "      <td>10.93</td>\n",
       "      <td>3.28</td>\n",
       "      <td>2.95</td>\n",
       "      <td>80.0</td>\n",
       "      <td>8</td>\n",
       "      <td>E</td>\n",
       "    </tr>\n",
       "    <tr>\n",
       "      <th>4</th>\n",
       "      <td>Pokemon Red/Pokemon Blue</td>\n",
       "      <td>GB</td>\n",
       "      <td>1996.0</td>\n",
       "      <td>Role-Playing</td>\n",
       "      <td>11.27</td>\n",
       "      <td>8.89</td>\n",
       "      <td>10.22</td>\n",
       "      <td>1.00</td>\n",
       "      <td>NaN</td>\n",
       "      <td>NaN</td>\n",
       "      <td>NaN</td>\n",
       "    </tr>\n",
       "  </tbody>\n",
       "</table>\n",
       "</div>"
      ],
      "text/plain": [
       "                       Name Platform  Year_of_Release         Genre  NA_sales  \\\n",
       "0                Wii Sports      Wii           2006.0        Sports     41.36   \n",
       "1         Super Mario Bros.      NES           1985.0      Platform     29.08   \n",
       "2            Mario Kart Wii      Wii           2008.0        Racing     15.68   \n",
       "3         Wii Sports Resort      Wii           2009.0        Sports     15.61   \n",
       "4  Pokemon Red/Pokemon Blue       GB           1996.0  Role-Playing     11.27   \n",
       "\n",
       "   EU_sales  JP_sales  Other_sales  Critic_Score User_Score Rating  \n",
       "0     28.96      3.77         8.45          76.0          8      E  \n",
       "1      3.58      6.81         0.77           NaN        NaN    NaN  \n",
       "2     12.76      3.79         3.29          82.0        8.3      E  \n",
       "3     10.93      3.28         2.95          80.0          8      E  \n",
       "4      8.89     10.22         1.00           NaN        NaN    NaN  "
      ]
     },
     "execution_count": 4,
     "metadata": {},
     "output_type": "execute_result"
    }
   ],
   "source": [
    "data.head()"
   ]
  },
  {
   "cell_type": "markdown",
   "metadata": {},
   "source": [
    "Рассмотрим общую гистограмму для всех числовых столбцов:"
   ]
  },
  {
   "cell_type": "code",
   "execution_count": 5,
   "metadata": {
    "scrolled": true
   },
   "outputs": [
    {
     "data": {
      "image/png": "[encoded data removed]",
      "text/plain": [
       "<Figure size 1080x1440 with 6 Axes>"
      ]
     },
     "metadata": {
      "needs_background": "light"
     },
     "output_type": "display_data"
    }
   ],
   "source": [
    "data.hist(figsize=(15, 20));"
   ]
  },
  {
   "cell_type": "markdown",
   "metadata": {},
   "source": [
    "<div class=\"alert alert-danger\">\n",
    "<b>Комментарий с замечанием ревьюера:</b>\n",
    "    \n",
    "Ты провел преварительный анализ данных, добавь, пожалуйста, вывод по проведенной работе.\n",
    "</div>\n"
   ]
  },
  {
   "cell_type": "markdown",
   "metadata": {},
   "source": [
    "<div class=\"alert alert-info\"> <b>Комментарий студента:</b> \n",
    "    Хорошо, вывод добавил!\n",
    "</div>"
   ]
  },
  {
   "cell_type": "markdown",
   "metadata": {},
   "source": [
    "<div class=\"alert alert-success\">\n",
    "<b>Комментарий с комплиментом ревьюера в2:</b> \n",
    "\n",
    "Хороший аналитический вывод.\n",
    "</div> "
   ]
  },
  {
   "cell_type": "markdown",
   "metadata": {},
   "source": [
    "**Вывод:** В процессе предварительного анализа данных были обнаружены пропуски в некоторых столбцах (как минимум \n",
    "Critic_Score,  User_Score и Rating), которые будут обработаны в следующем этапе. Также обнаружены некорректные типы данных для некоторых столбцов (к примеру Year_Of_Release). "
   ]
  },
  {
   "cell_type": "markdown",
   "metadata": {},
   "source": [
    "## Предобработка данных"
   ]
  },
  {
   "cell_type": "markdown",
   "metadata": {},
   "source": [
    "Перед началом предобработки стоит привести названия столбцов к нижнему регистру. Проверим столбцы после приведения:"
   ]
  },
  {
   "cell_type": "code",
   "execution_count": 6,
   "metadata": {
    "scrolled": true
   },
   "outputs": [
    {
     "data": {
      "text/plain": [
       "Index(['name', 'platform', 'year_of_release', 'genre', 'na_sales', 'eu_sales',\n",
       "       'jp_sales', 'other_sales', 'critic_score', 'user_score', 'rating'],\n",
       "      dtype='object')"
      ]
     },
     "execution_count": 6,
     "metadata": {},
     "output_type": "execute_result"
    }
   ],
   "source": [
    "data.columns = [i.lower() for i in data.columns]\n",
    "data.columns"
   ]
  },
  {
   "cell_type": "markdown",
   "metadata": {},
   "source": [
    "Также можно заметить что в столбце `user_score` встречается аббревиатура `'tbd'`, которая переводится как `\"To be determined\" - будет определено`, то есть неизвестное значение. Такие значения считаются пропусками, поэтому лучше будет заменить их на `nan`:"
   ]
  },
  {
   "cell_type": "code",
   "execution_count": 7,
   "metadata": {},
   "outputs": [],
   "source": [
    "data['user_score'] = data['user_score'].replace('tbd', np.nan)"
   ]
  },
  {
   "cell_type": "markdown",
   "metadata": {},
   "source": [
    "<div class=\"alert alert-success\">\n",
    "<b>Комментарий с комплиментом ревьюера:</b>\n",
    "\n",
    "    \n",
    "Корректно обработал значения tbd в столбце user_score.\n",
    "</div>\n"
   ]
  },
  {
   "cell_type": "markdown",
   "metadata": {},
   "source": [
    "### Приведение данных к нужному типу\n",
    "\n",
    "Если взглянуть на информацию о таблице, то можно заметить что некоторые столбцы имеют некорректный тип данных, стоит поменять следующие типы:\n",
    "- `year_of_release` на `int`, ведь год выпуска - целое число\n",
    "- `user_score` на `float`, так как это количественные переменные и в будущем потребуется выполнять операции с ними, если оставить тип данных `str`, то это будет невозможно"
   ]
  },
  {
   "cell_type": "markdown",
   "metadata": {},
   "source": []
  },
  {
   "cell_type": "code",
   "execution_count": 8,
   "metadata": {},
   "outputs": [],
   "source": [
    "data['year_of_release'] = pd.to_numeric(data['year_of_release'], errors = 'coerce').astype('int', errors = 'ignore')\n",
    "data['user_score'] = pd.to_numeric(data['user_score'], errors = 'coerce')"
   ]
  },
  {
   "cell_type": "markdown",
   "metadata": {},
   "source": [
    "### Поиск и изучение пропущенных значений в таблице\n",
    "\n",
    "Для начала посмотрим в каких столбцах есть пропуски и сколько их:"
   ]
  },
  {
   "cell_type": "code",
   "execution_count": 9,
   "metadata": {},
   "outputs": [
    {
     "data": {
      "text/plain": [
       "name                  2\n",
       "platform              0\n",
       "year_of_release     269\n",
       "genre                 2\n",
       "na_sales              0\n",
       "eu_sales              0\n",
       "jp_sales              0\n",
       "other_sales           0\n",
       "critic_score       8578\n",
       "user_score         9125\n",
       "rating             6766\n",
       "dtype: int64"
      ]
     },
     "execution_count": 9,
     "metadata": {},
     "output_type": "execute_result"
    }
   ],
   "source": [
    "data.isna().sum()"
   ]
  },
  {
   "cell_type": "markdown",
   "metadata": {},
   "source": [
    "Чтобы понять насколько много пропусков, посмотрим на их процент в каждом из столбцов:"
   ]
  },
  {
   "cell_type": "code",
   "execution_count": 10,
   "metadata": {},
   "outputs": [
    {
     "data": {
      "text/html": [
       "<style  type=\"text/css\" >\n",
       "#T_b14df_row0_col0,#T_b14df_row1_col0,#T_b14df_row3_col0,#T_b14df_row4_col0,#T_b14df_row5_col0,#T_b14df_row6_col0,#T_b14df_row7_col0{\n",
       "            background-color:  #3b4cc0;\n",
       "            color:  #f1f1f1;\n",
       "        }#T_b14df_row2_col0{\n",
       "            background-color:  #455cce;\n",
       "            color:  #f1f1f1;\n",
       "        }#T_b14df_row8_col0{\n",
       "            background-color:  #cd423b;\n",
       "            color:  #f1f1f1;\n",
       "        }#T_b14df_row9_col0{\n",
       "            background-color:  #b40426;\n",
       "            color:  #f1f1f1;\n",
       "        }#T_b14df_row10_col0{\n",
       "            background-color:  #f6a283;\n",
       "            color:  #000000;\n",
       "        }</style><table id=\"T_b14df_\" ><thead>    <tr>        <th class=\"blank level0\" ></th>        <th class=\"col_heading level0 col0\" >0</th>    </tr></thead><tbody>\n",
       "                <tr>\n",
       "                        <th id=\"T_b14df_level0_row0\" class=\"row_heading level0 row0\" >name</th>\n",
       "                        <td id=\"T_b14df_row0_col0\" class=\"data row0 col0\" >0.000000</td>\n",
       "            </tr>\n",
       "            <tr>\n",
       "                        <th id=\"T_b14df_level0_row1\" class=\"row_heading level0 row1\" >platform</th>\n",
       "                        <td id=\"T_b14df_row1_col0\" class=\"data row1 col0\" >0.000000</td>\n",
       "            </tr>\n",
       "            <tr>\n",
       "                        <th id=\"T_b14df_level0_row2\" class=\"row_heading level0 row2\" >year_of_release</th>\n",
       "                        <td id=\"T_b14df_row2_col0\" class=\"data row2 col0\" >2.000000</td>\n",
       "            </tr>\n",
       "            <tr>\n",
       "                        <th id=\"T_b14df_level0_row3\" class=\"row_heading level0 row3\" >genre</th>\n",
       "                        <td id=\"T_b14df_row3_col0\" class=\"data row3 col0\" >0.000000</td>\n",
       "            </tr>\n",
       "            <tr>\n",
       "                        <th id=\"T_b14df_level0_row4\" class=\"row_heading level0 row4\" >na_sales</th>\n",
       "                        <td id=\"T_b14df_row4_col0\" class=\"data row4 col0\" >0.000000</td>\n",
       "            </tr>\n",
       "            <tr>\n",
       "                        <th id=\"T_b14df_level0_row5\" class=\"row_heading level0 row5\" >eu_sales</th>\n",
       "                        <td id=\"T_b14df_row5_col0\" class=\"data row5 col0\" >0.000000</td>\n",
       "            </tr>\n",
       "            <tr>\n",
       "                        <th id=\"T_b14df_level0_row6\" class=\"row_heading level0 row6\" >jp_sales</th>\n",
       "                        <td id=\"T_b14df_row6_col0\" class=\"data row6 col0\" >0.000000</td>\n",
       "            </tr>\n",
       "            <tr>\n",
       "                        <th id=\"T_b14df_level0_row7\" class=\"row_heading level0 row7\" >other_sales</th>\n",
       "                        <td id=\"T_b14df_row7_col0\" class=\"data row7 col0\" >0.000000</td>\n",
       "            </tr>\n",
       "            <tr>\n",
       "                        <th id=\"T_b14df_level0_row8\" class=\"row_heading level0 row8\" >critic_score</th>\n",
       "                        <td id=\"T_b14df_row8_col0\" class=\"data row8 col0\" >51.000000</td>\n",
       "            </tr>\n",
       "            <tr>\n",
       "                        <th id=\"T_b14df_level0_row9\" class=\"row_heading level0 row9\" >user_score</th>\n",
       "                        <td id=\"T_b14df_row9_col0\" class=\"data row9 col0\" >55.000000</td>\n",
       "            </tr>\n",
       "            <tr>\n",
       "                        <th id=\"T_b14df_level0_row10\" class=\"row_heading level0 row10\" >rating</th>\n",
       "                        <td id=\"T_b14df_row10_col0\" class=\"data row10 col0\" >40.000000</td>\n",
       "            </tr>\n",
       "    </tbody></table>"
      ],
      "text/plain": [
       "<pandas.io.formats.style.Styler at 0x7fbadbe54d00>"
      ]
     },
     "execution_count": 10,
     "metadata": {},
     "output_type": "execute_result"
    }
   ],
   "source": [
    "pd.DataFrame(round(data.isna().mean()*100,)).style.background_gradient('coolwarm')"
   ]
  },
  {
   "cell_type": "markdown",
   "metadata": {},
   "source": [
    "Начнем со столбцов где пропусков совсем мало. Посмотрим на строки где пропущено имя игры:"
   ]
  },
  {
   "cell_type": "code",
   "execution_count": 11,
   "metadata": {},
   "outputs": [
    {
     "data": {
      "text/html": [
       "<div>\n",
       "<style scoped>\n",
       "    .dataframe tbody tr th:only-of-type {\n",
       "        vertical-align: middle;\n",
       "    }\n",
       "\n",
       "    .dataframe tbody tr th {\n",
       "        vertical-align: top;\n",
       "    }\n",
       "\n",
       "    .dataframe thead th {\n",
       "        text-align: right;\n",
       "    }\n",
       "</style>\n",
       "<table border=\"1\" class=\"dataframe\">\n",
       "  <thead>\n",
       "    <tr style=\"text-align: right;\">\n",
       "      <th></th>\n",
       "      <th>name</th>\n",
       "      <th>platform</th>\n",
       "      <th>year_of_release</th>\n",
       "      <th>genre</th>\n",
       "      <th>na_sales</th>\n",
       "      <th>eu_sales</th>\n",
       "      <th>jp_sales</th>\n",
       "      <th>other_sales</th>\n",
       "      <th>critic_score</th>\n",
       "      <th>user_score</th>\n",
       "      <th>rating</th>\n",
       "    </tr>\n",
       "  </thead>\n",
       "  <tbody>\n",
       "    <tr>\n",
       "      <th>659</th>\n",
       "      <td>NaN</td>\n",
       "      <td>GEN</td>\n",
       "      <td>1993.0</td>\n",
       "      <td>NaN</td>\n",
       "      <td>1.78</td>\n",
       "      <td>0.53</td>\n",
       "      <td>0.00</td>\n",
       "      <td>0.08</td>\n",
       "      <td>NaN</td>\n",
       "      <td>NaN</td>\n",
       "      <td>NaN</td>\n",
       "    </tr>\n",
       "    <tr>\n",
       "      <th>14244</th>\n",
       "      <td>NaN</td>\n",
       "      <td>GEN</td>\n",
       "      <td>1993.0</td>\n",
       "      <td>NaN</td>\n",
       "      <td>0.00</td>\n",
       "      <td>0.00</td>\n",
       "      <td>0.03</td>\n",
       "      <td>0.00</td>\n",
       "      <td>NaN</td>\n",
       "      <td>NaN</td>\n",
       "      <td>NaN</td>\n",
       "    </tr>\n",
       "  </tbody>\n",
       "</table>\n",
       "</div>"
      ],
      "text/plain": [
       "      name platform  year_of_release genre  na_sales  eu_sales  jp_sales  \\\n",
       "659    NaN      GEN           1993.0   NaN      1.78      0.53      0.00   \n",
       "14244  NaN      GEN           1993.0   NaN      0.00      0.00      0.03   \n",
       "\n",
       "       other_sales  critic_score  user_score rating  \n",
       "659           0.08           NaN         NaN    NaN  \n",
       "14244         0.00           NaN         NaN    NaN  "
      ]
     },
     "execution_count": 11,
     "metadata": {},
     "output_type": "execute_result"
    }
   ],
   "source": [
    "data[data['name'].isna()]"
   ]
  },
  {
   "cell_type": "markdown",
   "metadata": {},
   "source": [
    "Можно заметить что это всего 2 строки, причем пропуски в жанре допущены также в этих строчках. Проще будет исключить их из общей таблицы, ведь это меньше 1% от всех данных:"
   ]
  },
  {
   "cell_type": "code",
   "execution_count": 12,
   "metadata": {
    "scrolled": true
   },
   "outputs": [
    {
     "data": {
      "text/plain": [
       "name                  0\n",
       "platform              0\n",
       "year_of_release     269\n",
       "genre                 0\n",
       "na_sales              0\n",
       "eu_sales              0\n",
       "jp_sales              0\n",
       "other_sales           0\n",
       "critic_score       8576\n",
       "user_score         9123\n",
       "rating             6764\n",
       "dtype: int64"
      ]
     },
     "execution_count": 12,
     "metadata": {},
     "output_type": "execute_result"
    }
   ],
   "source": [
    "data = data.dropna(subset = ['name'])\n",
    "data.isna().sum()"
   ]
  },
  {
   "cell_type": "markdown",
   "metadata": {},
   "source": [
    "Пропуски столбца `year_of_release` составляют всего 2% от общего объема, так что их можно тоже исключить!"
   ]
  },
  {
   "cell_type": "code",
   "execution_count": 13,
   "metadata": {},
   "outputs": [
    {
     "data": {
      "text/plain": [
       "name                  0\n",
       "platform              0\n",
       "year_of_release       0\n",
       "genre                 0\n",
       "na_sales              0\n",
       "eu_sales              0\n",
       "jp_sales              0\n",
       "other_sales           0\n",
       "critic_score       8461\n",
       "user_score         8981\n",
       "rating             6676\n",
       "dtype: int64"
      ]
     },
     "execution_count": 13,
     "metadata": {},
     "output_type": "execute_result"
    }
   ],
   "source": [
    "data = data.dropna(subset = ['year_of_release'])\n",
    "data.isna().sum()"
   ]
  },
  {
   "cell_type": "markdown",
   "metadata": {},
   "source": [
    "<div class=\"alert alert-success\">\n",
    "<b>Комментарий с комплиментом ревьюера:</b>\n",
    "    \n",
    "Мололец, что сделал проверку и корректно обработал пропуски в столбцах `year_of_release` и `name`. \n"
   ]
  },
  {
   "cell_type": "markdown",
   "metadata": {},
   "source": [
    "Теперь время для более серьезных пропусков - столбцы `critic_score` и `user_score` . Пропуски в этих столбцах составляют около половины от всех данных, тут уже не обойтись обычным исключением из таблицы, результаты исследования могут сильно исказиться. При этом подставлять конкретные значения рейтингов (допустим среднее/медианное по жанру) будет некорректно, ведь каждая игра уникальна, тогда логичнее всего будет оставить пропуски."
   ]
  },
  {
   "cell_type": "markdown",
   "metadata": {},
   "source": [
    "<div class=\"alert alert-success\">\n",
    "<b>Комментарий с комплиментом ревьюера:</b>\n",
    "Верно"
   ]
  },
  {
   "cell_type": "markdown",
   "metadata": {},
   "source": [
    "Теперь столбец - `rating`. Так как это категориальная переменная и определить конкретное значение категории для игр не получится, поставим значение `unknown`:"
   ]
  },
  {
   "cell_type": "code",
   "execution_count": 14,
   "metadata": {},
   "outputs": [],
   "source": [
    "data['rating'] = data['rating'].fillna('unknown')"
   ]
  },
  {
   "cell_type": "code",
   "execution_count": 15,
   "metadata": {},
   "outputs": [
    {
     "name": "stdout",
     "output_type": "stream",
     "text": [
      "<class 'pandas.core.frame.DataFrame'>\n",
      "Int64Index: 16444 entries, 0 to 16714\n",
      "Data columns (total 11 columns):\n",
      " #   Column           Non-Null Count  Dtype  \n",
      "---  ------           --------------  -----  \n",
      " 0   name             16444 non-null  object \n",
      " 1   platform         16444 non-null  object \n",
      " 2   year_of_release  16444 non-null  float64\n",
      " 3   genre            16444 non-null  object \n",
      " 4   na_sales         16444 non-null  float64\n",
      " 5   eu_sales         16444 non-null  float64\n",
      " 6   jp_sales         16444 non-null  float64\n",
      " 7   other_sales      16444 non-null  float64\n",
      " 8   critic_score     7983 non-null   float64\n",
      " 9   user_score       7463 non-null   float64\n",
      " 10  rating           16444 non-null  object \n",
      "dtypes: float64(7), object(4)\n",
      "memory usage: 1.5+ MB\n"
     ]
    }
   ],
   "source": [
    "data.info()"
   ]
  },
  {
   "cell_type": "markdown",
   "metadata": {},
   "source": [
    "<div class=\"alert alert-danger\">\n",
    "<b>Комментарий с замечанием:</b> \n",
    "    \n",
    "Тут надо взглянуть на тип данных в столбце Rating - object, соответственно числовым значением некорректно заменять, лучше применить значение \"unknown\".</div>\n"
   ]
  },
  {
   "cell_type": "markdown",
   "metadata": {},
   "source": [
    "<div class=\"alert alert-info\"> <b>Комментарий студента:</b> \n",
    "    Да, согласен, просто в Slack-е обсуждали также вариант с заглушкой -1, но подправил на `unknown`\n",
    "</div>"
   ]
  },
  {
   "cell_type": "markdown",
   "metadata": {},
   "source": [
    "<div class=\"alert alert-success\">\n",
    "<b>Комментарий с комплиментом ревьюера в2:</b> \n",
    "\n",
    "Отлично\n",
    "</div> "
   ]
  },
  {
   "cell_type": "markdown",
   "metadata": {},
   "source": [
    "Пропуски были обработаны, поэтому можно приступать к следующему этапу\n",
    "\n",
    "### Обработка дубликатов\n",
    "\n",
    "Начнем с явных дубликатов:"
   ]
  },
  {
   "cell_type": "code",
   "execution_count": 16,
   "metadata": {},
   "outputs": [
    {
     "data": {
      "text/plain": [
       "0"
      ]
     },
     "execution_count": 16,
     "metadata": {},
     "output_type": "execute_result"
    }
   ],
   "source": [
    "data.duplicated().sum()"
   ]
  },
  {
   "cell_type": "markdown",
   "metadata": {},
   "source": [
    "Явных дубликатов в таблице нет, значит время искать неявные дубликаты. У нас есть два столбца где потенциально стоит рассматривать дубликаты - `name` и `genre`. Однако дубликаты в столбце `name` скорее всего точно есть. Ведь игра выходит не обязательно для только одной платформы, а может выйти как на `PC`, так и например на `PS4`. Поэтому будем искать дубликаты только в столбце `genre` :"
   ]
  },
  {
   "cell_type": "code",
   "execution_count": 17,
   "metadata": {},
   "outputs": [
    {
     "data": {
      "text/plain": [
       "array(['sports', 'platform', 'racing', 'role-playing', 'puzzle', 'misc',\n",
       "       'shooter', 'simulation', 'action', 'fighting', 'adventure',\n",
       "       'strategy'], dtype=object)"
      ]
     },
     "execution_count": 17,
     "metadata": {},
     "output_type": "execute_result"
    }
   ],
   "source": [
    "data['genre'] = data['genre'].str.lower()\n",
    "data['genre'].unique()"
   ]
  },
  {
   "cell_type": "markdown",
   "metadata": {},
   "source": [
    "Все значения оказались не являются дубликатами, поэтому удалять ничего и не нужно!"
   ]
  },
  {
   "cell_type": "markdown",
   "metadata": {},
   "source": [
    "Дубликаты устранены, так что можем переходить к следующему этапу.\n",
    "\n",
    "### Добавление нового столбца\n",
    "\n",
    "Необходимо добавить новый столбец, показывающий суммарные продажи игры по всем регионам. Назовем его `total_sales` : "
   ]
  },
  {
   "cell_type": "code",
   "execution_count": 18,
   "metadata": {},
   "outputs": [],
   "source": [
    "data['total_sales'] = data['na_sales'] + data['eu_sales'] + data['jp_sales'] + data['other_sales']"
   ]
  },
  {
   "cell_type": "markdown",
   "metadata": {},
   "source": [
    "<div class=\"alert alert-danger\">\n",
    "<b>Комментарий с замечанием:</b> \n",
    "    \n",
    "Ты потерял значения не из основных регионов, добавь еще 'other_sales'</div>\n"
   ]
  },
  {
   "cell_type": "markdown",
   "metadata": {},
   "source": [
    "<div class=\"alert alert-info\"> <b>Комментарий студента:</b> \n",
    "    Да, забыл совсем о них, спасибо!\n",
    "</div>"
   ]
  },
  {
   "cell_type": "markdown",
   "metadata": {},
   "source": [
    "<div class=\"alert alert-success\">\n",
    "<b>Комментарий с комплиментом ревьюера в2:</b> \n",
    "Все с нами :)\n",
    "</div> "
   ]
  },
  {
   "cell_type": "markdown",
   "metadata": {},
   "source": [
    "<div class=\"alert alert-warning\">\n",
    "<b>Комментарий с советом ревьюера:</b>\n",
    "        \n",
    "Для расчета суммарных продаж практичнее использовать следующий код:\n",
    "      \n",
    "df[['na_sales','eu_sales','jp_sales', 'other_sales']].sum(axis = 1)\n",
    "</div>\n"
   ]
  },
  {
   "cell_type": "markdown",
   "metadata": {},
   "source": [
    "### Удаление аномальных значений"
   ]
  },
  {
   "cell_type": "markdown",
   "metadata": {},
   "source": [
    "Рассмотрим уникальные значения в столбце `user_score` на случай если произошла опечатка и была введена слишком высокая оценка:"
   ]
  },
  {
   "cell_type": "code",
   "execution_count": 19,
   "metadata": {},
   "outputs": [
    {
     "data": {
      "text/plain": [
       "array([8. , nan, 8.3, 8.5, 6.6, 8.4, 8.6, 7.7, 6.3, 7.4, 8.2, 9. , 7.9,\n",
       "       8.1, 8.7, 7.1, 3.4, 5.3, 4.8, 3.2, 8.9, 6.4, 7.8, 7.5, 2.6, 7.2,\n",
       "       9.2, 7. , 7.3, 4.3, 7.6, 5.7, 5. , 9.1, 6.5, 8.8, 6.9, 9.4, 6.8,\n",
       "       6.1, 6.7, 5.4, 4. , 4.9, 4.5, 9.3, 6.2, 4.2, 6. , 3.7, 4.1, 5.8,\n",
       "       5.6, 5.5, 4.4, 4.6, 5.9, 3.9, 3.1, 2.9, 5.2, 3.3, 4.7, 5.1, 3.5,\n",
       "       2.5, 1.9, 3. , 2.7, 2.2, 2. , 9.5, 2.1, 3.6, 2.8, 1.8, 3.8, 0. ,\n",
       "       1.6, 9.6, 2.4, 1.7, 1.1, 0.3, 1.5, 0.7, 1.2, 2.3, 0.5, 1.3, 0.2,\n",
       "       0.6, 1.4, 0.9, 1. , 9.7])"
      ]
     },
     "execution_count": 19,
     "metadata": {},
     "output_type": "execute_result"
    }
   ],
   "source": [
    "data['user_score'].unique()"
   ]
  },
  {
   "cell_type": "markdown",
   "metadata": {},
   "source": [
    "Все значения лежат в промежутке от 0 до 10, что вполне соответствует реальности! Время проверить `critic_score` : "
   ]
  },
  {
   "cell_type": "code",
   "execution_count": 20,
   "metadata": {},
   "outputs": [
    {
     "data": {
      "text/plain": [
       "array([76., nan, 82., 80., 89., 58., 87., 91., 61., 97., 95., 77., 88.,\n",
       "       83., 94., 93., 85., 86., 98., 96., 90., 84., 73., 74., 78., 92.,\n",
       "       71., 72., 68., 62., 49., 67., 81., 66., 56., 79., 70., 59., 64.,\n",
       "       75., 60., 63., 69., 50., 25., 42., 44., 55., 48., 57., 29., 47.,\n",
       "       65., 54., 20., 53., 37., 38., 33., 52., 30., 32., 43., 45., 51.,\n",
       "       40., 46., 39., 34., 41., 36., 31., 27., 35., 26., 19., 28., 23.,\n",
       "       24., 21., 17., 13.])"
      ]
     },
     "execution_count": 20,
     "metadata": {},
     "output_type": "execute_result"
    }
   ],
   "source": [
    "data['critic_score'].unique()"
   ]
  },
  {
   "cell_type": "markdown",
   "metadata": {},
   "source": [
    "Данные в полном порядке, можно начинать исследовательский анализ данных!"
   ]
  },
  {
   "cell_type": "markdown",
   "metadata": {},
   "source": [
    "**Вывод:** В процессе предобработки данных названия столбцов были приведены к нижнему регистру. А все дубликаты и пропуски были по возможности исправлены."
   ]
  },
  {
   "cell_type": "markdown",
   "metadata": {},
   "source": [
    "<div class=\"alert alert-success\">\n",
    "<b>Комментарий с комплиментом ревьюера:</b>\n",
    "    \n",
    "Ты хорошо изучил данные и качественно подготовил их для исследования. \n",
    "\n",
    "\n",
    "Еще можно добавить промежуточный вывод по проведенной работе.</div>\n"
   ]
  },
  {
   "cell_type": "markdown",
   "metadata": {},
   "source": [
    "<div class=\"alert alert-info\"> <b>Комментарий студента:</b> \n",
    "    Понял, принял\n",
    "</div>"
   ]
  },
  {
   "cell_type": "markdown",
   "metadata": {},
   "source": [
    "<div class=\"alert alert-success\">\n",
    "<b>Комментарий с комплиментом ревьюера в2:</b> \n",
    "\n",
    "Отлично\n",
    "</div> "
   ]
  },
  {
   "cell_type": "markdown",
   "metadata": {},
   "source": [
    "## Исследовательский анализ данных\n",
    "\n",
    "Изучим данные по выпуску игр в разные годы. Для этого воспользуемся гистограммой:"
   ]
  },
  {
   "cell_type": "code",
   "execution_count": 21,
   "metadata": {
    "scrolled": true
   },
   "outputs": [
    {
     "data": {
      "text/plain": [
       "Text(0, 0.5, 'Объем продаж')"
      ]
     },
     "execution_count": 21,
     "metadata": {},
     "output_type": "execute_result"
    },
    {
     "data": {
      "image/png": "[encoded data removed]",
      "text/plain": [
       "<Figure size 360x360 with 1 Axes>"
      ]
     },
     "metadata": {
      "needs_background": "light"
     },
     "output_type": "display_data"
    }
   ],
   "source": [
    "data['year_of_release'].hist(bins = 37, figsize = (5,5)) # 37 - количество лет от начала сбора статистики и до 2016-го\n",
    "plt.pyplot.title('Продажи игр по годам')\n",
    "plt.pyplot.xlabel('Года')\n",
    "plt.pyplot.ylabel('Объем продаж')"
   ]
  },
  {
   "cell_type": "markdown",
   "metadata": {},
   "source": [
    "<div class=\"alert alert-danger\">\n",
    "<b>Комментарий с замечанием ревьюера:</b> \n",
    "\n",
    "Графики в проекте будет смотреться лучше, если добавить заголовки и подписи осей.\n",
    "    \n",
    "Проверь, что все графики оформлены корректно. Подписи осей должны быть на русском.\n"
   ]
  },
  {
   "cell_type": "markdown",
   "metadata": {},
   "source": [
    "<div class=\"alert alert-info\"> <b>Комментарий студента:</b> \n",
    "    Хорошо, учту также на будущее\n",
    "</div>"
   ]
  },
  {
   "cell_type": "markdown",
   "metadata": {},
   "source": [
    "<div class=\"alert alert-success\">\n",
    "<b>Комментарий с комплиментом ревьюера в2:</b> \n",
    "\n",
    "Молодец\n",
    "</div> "
   ]
  },
  {
   "cell_type": "markdown",
   "metadata": {},
   "source": [
    "Можно заметить, что заметный рост рынка игр начинается примерно в 1990-м году, а активный рост с 2000 года. Объяснить это можно тем, что примерно в эти годы активным развитием компьютеров - увеличивались производительные множества, улучшался интерфейс и тд. Все это давало разработчикам больше возможностей реализовать свои идеи в играх. Также можно заметить, что после ~2010 года происходит резкий спад. Скорее всего это можно объяснить появлением рынка мобильных игр, статистика по которым не входит в исследуемые данные. Тогда рынок игр сместился в мобильный сегмент и из-за этого произошел спад."
   ]
  },
  {
   "cell_type": "markdown",
   "metadata": {},
   "source": [
    "<div class=\"alert alert-success\">\n",
    "<b>Комментарий с комплиментом ревьюера:</b>\n",
    "    \n",
    "Корректный анализ графика. </div>\n"
   ]
  },
  {
   "cell_type": "markdown",
   "metadata": {},
   "source": [
    "Посмотрим, какие платформы имели наибольший общий тираж выпущенных игр:"
   ]
  },
  {
   "cell_type": "code",
   "execution_count": 22,
   "metadata": {},
   "outputs": [
    {
     "data": {
      "text/plain": [
       "Text(0, 0.5, 'Объем продаж')"
      ]
     },
     "execution_count": 22,
     "metadata": {},
     "output_type": "execute_result"
    },
    {
     "data": {
      "image/png": "[encoded data removed]",
      "text/plain": [
       "<Figure size 1080x360 with 1 Axes>"
      ]
     },
     "metadata": {
      "needs_background": "light"
     },
     "output_type": "display_data"
    }
   ],
   "source": [
    "top_platform = (data.\n",
    "                pivot_table(index = 'platform', values = 'total_sales', aggfunc = 'sum').\n",
    "                sort_values(by = 'total_sales', ascending = False)\n",
    "                )\n",
    "plt.pyplot.figure(figsize = (15,5))\n",
    "plt.pyplot.title('Распределение платформ по проданным играм')\n",
    "sb.barplot(x = top_platform.index, y = top_platform['total_sales'])\n",
    "plt.pyplot.xlabel('Платформы')\n",
    "plt.pyplot.ylabel('Объем продаж')\n"
   ]
  },
  {
   "cell_type": "markdown",
   "metadata": {},
   "source": [
    "Теперь для каждой платформы построим распределение общих продаж по годам:"
   ]
  },
  {
   "cell_type": "code",
   "execution_count": 23,
   "metadata": {},
   "outputs": [
    {
     "name": "stderr",
     "output_type": "stream",
     "text": [
      "/opt/conda/lib/python3.9/site-packages/pandas/plotting/_matplotlib/core.py:337: RuntimeWarning: More than 20 figures have been opened. Figures created through the pyplot interface (`matplotlib.pyplot.figure`) are retained until explicitly closed and may consume too much memory. (To control this warning, see the rcParam `figure.max_open_warning`).\n",
      "  fig = self.plt.figure(figsize=self.figsize)\n"
     ]
    },
    {
     "data": {
      "image/png": "[encoded data removed]",
      "text/plain": [
       "<Figure size 360x360 with 1 Axes>"
      ]
     },
     "metadata": {
      "needs_background": "light"
     },
     "output_type": "display_data"
    },
    {
     "data": {
      "image/png": "[encoded data removed]",
      "text/plain": [
       "<Figure size 360x360 with 1 Axes>"
      ]
     },
     "metadata": {
      "needs_background": "light"
     },
     "output_type": "display_data"
    },
    {
     "data": {
      "image/png": "[encoded data removed]",
      "text/plain": [
       "<Figure size 360x360 with 1 Axes>"
      ]
     },
     "metadata": {
      "needs_background": "light"
     },
     "output_type": "display_data"
    },
    {
     "data": {
      "image/png": "[encoded data removed]",
      "text/plain": [
       "<Figure size 360x360 with 1 Axes>"
      ]
     },
     "metadata": {
      "needs_background": "light"
     },
     "output_type": "display_data"
    },
    {
     "data": {
      "image/png": "[encoded data removed]",
      "text/plain": [
       "<Figure size 360x360 with 1 Axes>"
      ]
     },
     "metadata": {
      "needs_background": "light"
     },
     "output_type": "display_data"
    },
    {
     "data": {
      "image/png": "[encoded data removed]",
      "text/plain": [
       "<Figure size 360x360 with 1 Axes>"
      ]
     },
     "metadata": {
      "needs_background": "light"
     },
     "output_type": "display_data"
    },
    {
     "data": {
      "image/png": "[encoded data removed]",
      "text/plain": [
       "<Figure size 360x360 with 1 Axes>"
      ]
     },
     "metadata": {
      "needs_background": "light"
     },
     "output_type": "display_data"
    },
    {
     "data": {
      "image/png": "[encoded data removed]",
      "text/plain": [
       "<Figure size 360x360 with 1 Axes>"
      ]
     },
     "metadata": {
      "needs_background": "light"
     },
     "output_type": "display_data"
    },
    {
     "data": {
      "image/png": "[encoded data removed]",
      "text/plain": [
       "<Figure size 360x360 with 1 Axes>"
      ]
     },
     "metadata": {
      "needs_background": "light"
     },
     "output_type": "display_data"
    },
    {
     "data": {
      "image/png": "[encoded data removed]",
      "text/plain": [
       "<Figure size 360x360 with 1 Axes>"
      ]
     },
     "metadata": {
      "needs_background": "light"
     },
     "output_type": "display_data"
    },
    {
     "data": {
      "image/png": "[encoded data removed]",
      "text/plain": [
       "<Figure size 360x360 with 1 Axes>"
      ]
     },
     "metadata": {
      "needs_background": "light"
     },
     "output_type": "display_data"
    },
    {
     "data": {
      "image/png": "[encoded data removed]",
      "text/plain": [
       "<Figure size 360x360 with 1 Axes>"
      ]
     },
     "metadata": {
      "needs_background": "light"
     },
     "output_type": "display_data"
    },
    {
     "data": {
      "image/png": "[encoded data removed]",
      "text/plain": [
       "<Figure size 360x360 with 1 Axes>"
      ]
     },
     "metadata": {
      "needs_background": "light"
     },
     "output_type": "display_data"
    },
    {
     "data": {
      "image/png": "[encoded data removed]",
      "text/plain": [
       "<Figure size 360x360 with 1 Axes>"
      ]
     },
     "metadata": {
      "needs_background": "light"
     },
     "output_type": "display_data"
    },
    {
     "data": {
      "image/png": "[encoded data removed]",
      "text/plain": [
       "<Figure size 360x360 with 1 Axes>"
      ]
     },
     "metadata": {
      "needs_background": "light"
     },
     "output_type": "display_data"
    },
    {
     "data": {
      "image/png": "[encoded data removed]",
      "text/plain": [
       "<Figure size 360x360 with 1 Axes>"
      ]
     },
     "metadata": {
      "needs_background": "light"
     },
     "output_type": "display_data"
    },
    {
     "data": {
      "image/png": "[encoded data removed]",
      "text/plain": [
       "<Figure size 360x360 with 1 Axes>"
      ]
     },
     "metadata": {
      "needs_background": "light"
     },
     "output_type": "display_data"
    },
    {
     "data": {
      "image/png": "[encoded data removed]",
      "text/plain": [
       "<Figure size 360x360 with 1 Axes>"
      ]
     },
     "metadata": {
      "needs_background": "light"
     },
     "output_type": "display_data"
    },
    {
     "data": {
      "image/png": "[encoded data removed]",
      "text/plain": [
       "<Figure size 360x360 with 1 Axes>"
      ]
     },
     "metadata": {
      "needs_background": "light"
     },
     "output_type": "display_data"
    },
    {
     "data": {
      "image/png": "[encoded data removed]",
      "text/plain": [
       "<Figure size 360x360 with 1 Axes>"
      ]
     },
     "metadata": {
      "needs_background": "light"
     },
     "output_type": "display_data"
    },
    {
     "data": {
      "image/png": "[encoded data removed]",
      "text/plain": [
       "<Figure size 360x360 with 1 Axes>"
      ]
     },
     "metadata": {
      "needs_background": "light"
     },
     "output_type": "display_data"
    },
    {
     "data": {
      "image/png": "[encoded data removed]",
      "text/plain": [
       "<Figure size 360x360 with 1 Axes>"
      ]
     },
     "metadata": {
      "needs_background": "light"
     },
     "output_type": "display_data"
    },
    {
     "data": {
      "image/png": "[encoded data removed]",
      "text/plain": [
       "<Figure size 360x360 with 1 Axes>"
      ]
     },
     "metadata": {
      "needs_background": "light"
     },
     "output_type": "display_data"
    },
    {
     "data": {
      "image/png": "[encoded data removed]",
      "text/plain": [
       "<Figure size 360x360 with 1 Axes>"
      ]
     },
     "metadata": {
      "needs_background": "light"
     },
     "output_type": "display_data"
    },
    {
     "data": {
      "image/png": "[encoded data removed]",
      "text/plain": [
       "<Figure size 360x360 with 1 Axes>"
      ]
     },
     "metadata": {
      "needs_background": "light"
     },
     "output_type": "display_data"
    },
    {
     "data": {
      "image/png": "[encoded data removed]",
      "text/plain": [
       "<Figure size 360x360 with 1 Axes>"
      ]
     },
     "metadata": {
      "needs_background": "light"
     },
     "output_type": "display_data"
    },
    {
     "data": {
      "image/png": "[encoded data removed]",
      "text/plain": [
       "<Figure size 360x360 with 1 Axes>"
      ]
     },
     "metadata": {
      "needs_background": "light"
     },
     "output_type": "display_data"
    },
    {
     "data": {
      "image/png": "[encoded data removed]",
      "text/plain": [
       "<Figure size 360x360 with 1 Axes>"
      ]
     },
     "metadata": {
      "needs_background": "light"
     },
     "output_type": "display_data"
    },
    {
     "data": {
      "image/png": "[encoded data removed]",
      "text/plain": [
       "<Figure size 360x360 with 1 Axes>"
      ]
     },
     "metadata": {
      "needs_background": "light"
     },
     "output_type": "display_data"
    },
    {
     "data": {
      "image/png": "[encoded data removed]",
      "text/plain": [
       "<Figure size 360x360 with 1 Axes>"
      ]
     },
     "metadata": {
      "needs_background": "light"
     },
     "output_type": "display_data"
    },
    {
     "data": {
      "image/png": "[encoded data removed]",
      "text/plain": [
       "<Figure size 360x360 with 1 Axes>"
      ]
     },
     "metadata": {
      "needs_background": "light"
     },
     "output_type": "display_data"
    }
   ],
   "source": [
    "for i in data['platform'].unique():   \n",
    "    (data[data['platform'] == i].\n",
    "     pivot_table(index = 'year_of_release', values = 'total_sales', aggfunc = 'sum').\n",
    "     plot(title = i, figsize = (5,5), kind = 'bar')\n",
    "    )"
   ]
  },
  {
   "cell_type": "markdown",
   "metadata": {},
   "source": [
    "Выделим 5 наиболее успешных платформ:"
   ]
  },
  {
   "cell_type": "code",
   "execution_count": 24,
   "metadata": {},
   "outputs": [
    {
     "data": {
      "text/html": [
       "<div>\n",
       "<style scoped>\n",
       "    .dataframe tbody tr th:only-of-type {\n",
       "        vertical-align: middle;\n",
       "    }\n",
       "\n",
       "    .dataframe tbody tr th {\n",
       "        vertical-align: top;\n",
       "    }\n",
       "\n",
       "    .dataframe thead th {\n",
       "        text-align: right;\n",
       "    }\n",
       "</style>\n",
       "<table border=\"1\" class=\"dataframe\">\n",
       "  <thead>\n",
       "    <tr style=\"text-align: right;\">\n",
       "      <th></th>\n",
       "      <th>total_sales</th>\n",
       "    </tr>\n",
       "    <tr>\n",
       "      <th>platform</th>\n",
       "      <th></th>\n",
       "    </tr>\n",
       "  </thead>\n",
       "  <tbody>\n",
       "    <tr>\n",
       "      <th>PS2</th>\n",
       "      <td>1233.56</td>\n",
       "    </tr>\n",
       "    <tr>\n",
       "      <th>X360</th>\n",
       "      <td>961.24</td>\n",
       "    </tr>\n",
       "    <tr>\n",
       "      <th>PS3</th>\n",
       "      <td>931.34</td>\n",
       "    </tr>\n",
       "    <tr>\n",
       "      <th>Wii</th>\n",
       "      <td>891.18</td>\n",
       "    </tr>\n",
       "    <tr>\n",
       "      <th>DS</th>\n",
       "      <td>802.78</td>\n",
       "    </tr>\n",
       "  </tbody>\n",
       "</table>\n",
       "</div>"
      ],
      "text/plain": [
       "          total_sales\n",
       "platform             \n",
       "PS2           1233.56\n",
       "X360           961.24\n",
       "PS3            931.34\n",
       "Wii            891.18\n",
       "DS             802.78"
      ]
     },
     "execution_count": 24,
     "metadata": {},
     "output_type": "execute_result"
    }
   ],
   "source": [
    "top_platform.head()"
   ]
  },
  {
   "cell_type": "markdown",
   "metadata": {},
   "source": [
    "Можно заметить, что каждая платформа имеет среднее \"время жизни\" (промежуток за который она успевает появиться, набрать популярность, а потом стать невостребованной) около 8 - 10 лет. \n",
    "\n",
    "С учетом проведенного анализа в актуальный период будут включены игры выпущенные в 2010 году или позднее. Период выбран как условная третья стадия развития рынка игр. Первая стадия - самое начало, игр выпускается мало, компьютеры слабые. Вторая стадия - активный рост индустрии игры, продажи растут. Третий период - появление мобильного рынка, спад в продажах игр для ПК и консолей. Так как данные за 1 и 2 период не отражают существующей ситуации, то и в актуальный период они не войдут. При этом надо учесть что в 2010 году имели развитие платформы которые сейчас уже не актуальны, поэтому разумно будет начинать актуальный период с 2014 года."
   ]
  },
  {
   "cell_type": "code",
   "execution_count": 25,
   "metadata": {},
   "outputs": [],
   "source": [
    "data_actual = data.query('year_of_release >= 2014')"
   ]
  },
  {
   "cell_type": "markdown",
   "metadata": {},
   "source": [
    "<div class=\"alert alert-success\">\n",
    "<b>Комментарий с комплиментом ревьюера:</b>\n",
    "    \n",
    "Рассуждение верное, молодец. </div>\n"
   ]
  },
  {
   "cell_type": "markdown",
   "metadata": {},
   "source": [
    "### Анализ рынка по платформам и жанрам\n",
    "\n",
    "Ответим на следующий вопрос: \"Какие платформы лидируют по продажам, растут или падают? Выберите несколько потенциально прибыльных платформ.\"\n",
    "\n",
    "Для ответа для начала нужно немного изменить нашу статистику по платформам. Очевидно, что из всех 20 платформ некоторые к 2010 году стали полностью неактуальны (т.е. игры на них не выходят с 2010 года или ранее). Поэтому обновим наше распределение по платформам из новой таблицы `data_actual` : "
   ]
  },
  {
   "cell_type": "code",
   "execution_count": 26,
   "metadata": {},
   "outputs": [
    {
     "data": {
      "text/plain": [
       "Text(0, 0.5, 'Объем продаж')"
      ]
     },
     "execution_count": 26,
     "metadata": {},
     "output_type": "execute_result"
    },
    {
     "data": {
      "image/png": "[encoded data removed]",
      "text/plain": [
       "<Figure size 1080x360 with 1 Axes>"
      ]
     },
     "metadata": {
      "needs_background": "light"
     },
     "output_type": "display_data"
    }
   ],
   "source": [
    "top_platform = (data_actual.\n",
    "                pivot_table(index = 'platform', values = 'total_sales', aggfunc = 'sum').\n",
    "                sort_values(by = 'total_sales', ascending = False)\n",
    "                )\n",
    "plt.pyplot.figure(figsize = (15,5))\n",
    "plt.pyplot.title('Распределение платформ по проданным играм')\n",
    "sb.barplot(x = top_platform.index, y = top_platform['total_sales'])\n",
    "plt.pyplot.xlabel('Платформы')\n",
    "plt.pyplot.ylabel('Объем продаж')"
   ]
  },
  {
   "cell_type": "markdown",
   "metadata": {},
   "source": [
    "И правда - осталось всего 12 платформ. Проанализируем каждую из них на изменение количества продаж по годам. При этом будем выводить статистику начиная от самой популярной платформы (Х360) к самой непопулярной (PS2):"
   ]
  },
  {
   "cell_type": "code",
   "execution_count": 27,
   "metadata": {},
   "outputs": [
    {
     "data": {
      "image/png": "[encoded data removed]",
      "text/plain": [
       "<Figure size 360x360 with 1 Axes>"
      ]
     },
     "metadata": {
      "needs_background": "light"
     },
     "output_type": "display_data"
    },
    {
     "data": {
      "image/png": "[encoded data removed]",
      "text/plain": [
       "<Figure size 360x360 with 1 Axes>"
      ]
     },
     "metadata": {
      "needs_background": "light"
     },
     "output_type": "display_data"
    },
    {
     "data": {
      "image/png": "[encoded data removed]",
      "text/plain": [
       "<Figure size 360x360 with 1 Axes>"
      ]
     },
     "metadata": {
      "needs_background": "light"
     },
     "output_type": "display_data"
    },
    {
     "data": {
      "image/png": "[encoded data removed]",
      "text/plain": [
       "<Figure size 360x360 with 1 Axes>"
      ]
     },
     "metadata": {
      "needs_background": "light"
     },
     "output_type": "display_data"
    },
    {
     "data": {
      "image/png": "[encoded data removed]",
      "text/plain": [
       "<Figure size 360x360 with 1 Axes>"
      ]
     },
     "metadata": {
      "needs_background": "light"
     },
     "output_type": "display_data"
    },
    {
     "data": {
      "image/png": "[encoded data removed]",
      "text/plain": [
       "<Figure size 360x360 with 1 Axes>"
      ]
     },
     "metadata": {
      "needs_background": "light"
     },
     "output_type": "display_data"
    },
    {
     "data": {
      "image/png": "[encoded data removed]",
      "text/plain": [
       "<Figure size 360x360 with 1 Axes>"
      ]
     },
     "metadata": {
      "needs_background": "light"
     },
     "output_type": "display_data"
    },
    {
     "data": {
      "image/png": "[encoded data removed]",
      "text/plain": [
       "<Figure size 360x360 with 1 Axes>"
      ]
     },
     "metadata": {
      "needs_background": "light"
     },
     "output_type": "display_data"
    },
    {
     "data": {
      "image/png": "[encoded data removed]",
      "text/plain": [
       "<Figure size 360x360 with 1 Axes>"
      ]
     },
     "metadata": {
      "needs_background": "light"
     },
     "output_type": "display_data"
    },
    {
     "data": {
      "image/png": "[encoded data removed]",
      "text/plain": [
       "<Figure size 360x360 with 1 Axes>"
      ]
     },
     "metadata": {
      "needs_background": "light"
     },
     "output_type": "display_data"
    }
   ],
   "source": [
    "top_platform_list = top_platform.index\n",
    "for i in top_platform_list:\n",
    "    (data_actual[data_actual['platform'] == i].\n",
    "     pivot_table(index = 'year_of_release', values = 'total_sales', aggfunc = 'sum').\n",
    "     plot(title = i, figsize = (5,5), kind = 'bar')\n",
    "    )"
   ]
  },
  {
   "cell_type": "markdown",
   "metadata": {},
   "source": [
    "Какой вывод можно сделать по полученым данным:\n",
    "- Несмотря на то что платформа X360 имеет наибольший общий тираж продаж, в последние годы продажи падают и платформу нельзя назвать перспективной.\n",
    "- Другие платформы, продажи которых падают с годами: PS3, 3DS, Wii , DS, PC, WiiU, PSP, PSV, PS2\n",
    "- Потенциально прибыльными могут быть следующие платформы: PS4, XOne"
   ]
  },
  {
   "cell_type": "markdown",
   "metadata": {},
   "source": [
    "<div class=\"alert alert-success\">\n",
    "<b>Комментарий с комплиментом ревьюера:</b>\n",
    "    \n",
    "Отлично, но надо сократить актуальный период, чтобы устаревшие версии платформ не попадали в анализ.  </div>\n"
   ]
  },
  {
   "cell_type": "markdown",
   "metadata": {},
   "source": [
    "<div class=\"alert alert-info\"> <b>Комментарий студента:</b> \n",
    "    Хорошо, оставил данные с 2014 года.\n",
    "</div>"
   ]
  },
  {
   "cell_type": "markdown",
   "metadata": {},
   "source": [
    "<div class=\"alert alert-success\">\n",
    "<b>Комментарий с комплиментом ревьюера в2:</b> \n",
    "\n",
    "Отлично\n",
    "</div> "
   ]
  },
  {
   "cell_type": "markdown",
   "metadata": {},
   "source": [
    "Построим график \"ящика с усами\" по глобальным продажам игр в разбивке по платформам (для 5 наиболее популярных):"
   ]
  },
  {
   "cell_type": "code",
   "execution_count": 28,
   "metadata": {},
   "outputs": [
    {
     "data": {
      "image/png": "[encoded data removed]",
      "text/plain": [
       "<Figure size 432x288 with 1 Axes>"
      ]
     },
     "metadata": {
      "needs_background": "light"
     },
     "output_type": "display_data"
    }
   ],
   "source": [
    "for i in top_platform_list:\n",
    "    platform_sales = (data_actual[data_actual['platform'] == i].\n",
    "                      pivot_table(index = 'year_of_release', values = 'total_sales', aggfunc = 'sum')\n",
    "                     )\n",
    "    sb.boxplot(data = platform_sales)"
   ]
  },
  {
   "cell_type": "code",
   "execution_count": 29,
   "metadata": {},
   "outputs": [
    {
     "data": {
      "text/plain": [
       "Text(0, 0.5, 'Объем продаж')"
      ]
     },
     "execution_count": 29,
     "metadata": {},
     "output_type": "execute_result"
    },
    {
     "data": {
      "image/png": "[encoded data removed]",
      "text/plain": [
       "<Figure size 720x720 with 1 Axes>"
      ]
     },
     "metadata": {
      "needs_background": "light"
     },
     "output_type": "display_data"
    }
   ],
   "source": [
    "plt.pyplot.figure(figsize = (10,10))\n",
    "top5_platform_list = top_platform.head().index\n",
    "sb.boxplot(data = data_actual.query('platform in @top5_platform_list'), x = 'platform', y = 'total_sales')\n",
    "plt.pyplot.ylim(0,2)\n",
    "plt.pyplot.title('Ящик с усами')\n",
    "plt.pyplot.xlabel('Платформа')\n",
    "plt.pyplot.ylabel('Объем продаж')"
   ]
  },
  {
   "cell_type": "markdown",
   "metadata": {},
   "source": [
    "Исходя из полученных графиков можно сделать несколько выводов:\n",
    "- У платформы PS4 наибольшее количество продаж, далее идет XOne и X360\n",
    "- Медиана для каждой платформы расположена по разному"
   ]
  },
  {
   "cell_type": "markdown",
   "metadata": {},
   "source": [
    "<div class=\"alert alert-danger\">\n",
    "<b>Комментарий с замечанием ревьюера:</b> \n",
    "\n",
    "Ранее ты обозначил XOne - как потенциально прибыльную, но на графике у тебя ее нет. Также есть устаревшая версия платформы WiiU, а ее самой нет.   \n",
    "</div>\n"
   ]
  },
  {
   "cell_type": "markdown",
   "metadata": {},
   "source": [
    "<div class=\"alert alert-info\"> <b>Комментарий студента:</b> \n",
    "    Да, с учетом изменения актуального периода все стало выглядеть получше.\n",
    "</div>"
   ]
  },
  {
   "cell_type": "markdown",
   "metadata": {},
   "source": [
    "<div class=\"alert alert-success\">\n",
    "<b>Комментарий с комплиментом ревьюера в2:</b> \n",
    "\n",
    "Лидер вернулся\n",
    "</div> "
   ]
  },
  {
   "cell_type": "markdown",
   "metadata": {},
   "source": [
    "Теперь рассмотрим влияние отзывов пользователей и критиков на продажи игр внутри платформы:"
   ]
  },
  {
   "cell_type": "code",
   "execution_count": 30,
   "metadata": {},
   "outputs": [
    {
     "name": "stdout",
     "output_type": "stream",
     "text": [
      "Платформа  PS4\n",
      "Коэффициент корреляции для игроков: -0.040131589472697356\n",
      "Коэффициент корреляции для критиков: 0.40266141068104083\n",
      "\n",
      "\n",
      "Платформа  XOne\n",
      "Коэффициент корреляции для игроков: -0.0703839280647581\n",
      "Коэффициент корреляции для критиков: 0.42867694370333226\n",
      "\n",
      "\n",
      "Платформа  3DS\n",
      "Коэффициент корреляции для игроков: 0.2151932718527028\n",
      "Коэффициент корреляции для критиков: 0.31411749286905105\n",
      "\n",
      "\n",
      "Платформа  PS3\n",
      "Коэффициент корреляции для игроков: -0.16676141347662116\n",
      "Коэффициент корреляции для критиков: 0.44657460493190704\n",
      "\n",
      "\n",
      "Платформа  X360\n",
      "Коэффициент корреляции для игроков: -0.138444570945665\n",
      "Коэффициент корреляции для критиков: 0.5257228356581523\n",
      "\n",
      "\n"
     ]
    },
    {
     "data": {
      "image/png": "[encoded data removed]",
      "text/plain": [
       "<Figure size 432x288 with 1 Axes>"
      ]
     },
     "metadata": {
      "needs_background": "light"
     },
     "output_type": "display_data"
    },
    {
     "data": {
      "image/png": "[encoded data removed]",
      "text/plain": [
       "<Figure size 432x288 with 1 Axes>"
      ]
     },
     "metadata": {
      "needs_background": "light"
     },
     "output_type": "display_data"
    },
    {
     "data": {
      "image/png": "[encoded data removed]",
      "text/plain": [
       "<Figure size 432x288 with 1 Axes>"
      ]
     },
     "metadata": {
      "needs_background": "light"
     },
     "output_type": "display_data"
    },
    {
     "data": {
      "image/png": "[encoded data removed]",
      "text/plain": [
       "<Figure size 432x288 with 1 Axes>"
      ]
     },
     "metadata": {
      "needs_background": "light"
     },
     "output_type": "display_data"
    },
    {
     "data": {
      "image/png": "[encoded data removed]",
      "text/plain": [
       "<Figure size 432x288 with 1 Axes>"
      ]
     },
     "metadata": {
      "needs_background": "light"
     },
     "output_type": "display_data"
    },
    {
     "data": {
      "image/png": "[encoded data removed]",
      "text/plain": [
       "<Figure size 432x288 with 1 Axes>"
      ]
     },
     "metadata": {
      "needs_background": "light"
     },
     "output_type": "display_data"
    },
    {
     "data": {
      "image/png": "[encoded data removed]",
      "text/plain": [
       "<Figure size 432x288 with 1 Axes>"
      ]
     },
     "metadata": {
      "needs_background": "light"
     },
     "output_type": "display_data"
    },
    {
     "data": {
      "image/png": "[encoded data removed]",
      "text/plain": [
       "<Figure size 432x288 with 1 Axes>"
      ]
     },
     "metadata": {
      "needs_background": "light"
     },
     "output_type": "display_data"
    },
    {
     "data": {
      "image/png": "[encoded data removed]",
      "text/plain": [
       "<Figure size 432x288 with 1 Axes>"
      ]
     },
     "metadata": {
      "needs_background": "light"
     },
     "output_type": "display_data"
    },
    {
     "data": {
      "image/png": "[encoded data removed]",
      "text/plain": [
       "<Figure size 432x288 with 1 Axes>"
      ]
     },
     "metadata": {
      "needs_background": "light"
     },
     "output_type": "display_data"
    }
   ],
   "source": [
    "for i in top5_platform_list:\n",
    "    print('Платформа ', i)\n",
    "    (data_actual.\n",
    "     query('platform == @i').\n",
    "     plot(x = 'user_score' ,y = 'total_sales', style='o')\n",
    "    )\n",
    "    plt.pyplot.title(i)\n",
    "    (data_actual.\n",
    "     query('platform == @i').\n",
    "     plot(x = 'critic_score' ,y = 'total_sales', style='o')\n",
    "    )\n",
    "    print('Коэффициент корреляции для игроков:', data_actual.query('platform == @i')['total_sales'].\n",
    "          corr(data_actual.query('platform == @i')['user_score']))\n",
    "    print('Коэффициент корреляции для критиков:', data_actual.query('platform == @i')['total_sales'].\n",
    "          corr(data_actual.query('platform == @i')['critic_score']))\n",
    "    print()\n",
    "    print()"
   ]
  },
  {
   "cell_type": "markdown",
   "metadata": {},
   "source": [
    "**Вывод:** Продажи на конкретной платформы почти не зависят от отзывов игроков, так как коэффициент корреляции Пирсона меньше 0.1 в большинстве случаев. А между продажами на платформе и отзывами критиков есть слабая корреляция (коэф-т в районе 0.3 - 0.4). "
   ]
  },
  {
   "cell_type": "markdown",
   "metadata": {},
   "source": [
    "<div class=\"alert alert-danger\">\n",
    "<b>Комментарий с замечанием ревьюера:</b> \n",
    "\n",
    "Код выше выдает ошибку, скорректируй его, пожалуйста.  \n",
    "</div>\n"
   ]
  },
  {
   "cell_type": "markdown",
   "metadata": {},
   "source": [
    "<div class=\"alert alert-info\"> <b>Комментарий студента:</b> \n",
    "    Ой, видимо забыл поправить пока менял названия переменных и срез. Подправил\n",
    "</div>"
   ]
  },
  {
   "cell_type": "markdown",
   "metadata": {},
   "source": [
    "<div class=\"alert alert-success\">\n",
    "<b>Комментарий с комплиментом ревьюера в2:</b> \n",
    "\n",
    "Анализ верный, молодец\n",
    "</div> "
   ]
  },
  {
   "cell_type": "markdown",
   "metadata": {},
   "source": [
    "**Теперь рассмотрим как распределены игры по жанрам, какие жанры самые прибыльные и выделяются ли жанры с высокими и низкими продажами.**"
   ]
  },
  {
   "cell_type": "code",
   "execution_count": 31,
   "metadata": {},
   "outputs": [
    {
     "data": {
      "text/plain": [
       "Text(0, 0.5, 'Количество игр')"
      ]
     },
     "execution_count": 31,
     "metadata": {},
     "output_type": "execute_result"
    },
    {
     "data": {
      "image/png": "[encoded data removed]",
      "text/plain": [
       "<Figure size 1080x576 with 1 Axes>"
      ]
     },
     "metadata": {
      "needs_background": "light"
     },
     "output_type": "display_data"
    }
   ],
   "source": [
    "data_actual['genre'].hist(bins = 12, figsize = (15,8))\n",
    "plt.pyplot.xlabel('Жанр')\n",
    "plt.pyplot.ylabel('Количество игр')"
   ]
  },
  {
   "cell_type": "markdown",
   "metadata": {},
   "source": [
    "Самый популярный жанр - экшн, наименее популярный - пазлы. Рассмотрим распределение жанров по среднему объему продаж:"
   ]
  },
  {
   "cell_type": "code",
   "execution_count": 32,
   "metadata": {},
   "outputs": [
    {
     "data": {
      "text/plain": [
       "Text(0, 0.5, 'Объем продаж')"
      ]
     },
     "execution_count": 32,
     "metadata": {},
     "output_type": "execute_result"
    },
    {
     "data": {
      "image/png": "[encoded data removed]",
      "text/plain": [
       "<Figure size 1080x576 with 1 Axes>"
      ]
     },
     "metadata": {
      "needs_background": "light"
     },
     "output_type": "display_data"
    }
   ],
   "source": [
    "genre_sales = (data_actual.\n",
    "               pivot_table(index = 'genre', values = 'total_sales', aggfunc = 'median').\n",
    "               sort_values(by = 'total_sales', ascending=False))\n",
    "\n",
    "\n",
    "plt.pyplot.figure(figsize = (15,8))\n",
    "plt.pyplot.title('Распределение жанров по среднему объему продаж')\n",
    "sb.barplot(x = genre_sales.index, y = genre_sales['total_sales'])\n",
    "plt.pyplot.xlabel('Жанр')\n",
    "plt.pyplot.ylabel('Объем продаж')"
   ]
  },
  {
   "cell_type": "markdown",
   "metadata": {},
   "source": [
    "**Вывод:** Самыми прибыльными жанрами оказались шутер, спортивные, а также платформ игры. При этом жанр шутер игр сильно выделяется среди остальных. А вот наименее прибыльные жанры (пазлы, стратегии и приключения) имеют схожие показатели."
   ]
  },
  {
   "cell_type": "markdown",
   "metadata": {},
   "source": [
    "<div class=\"alert alert-danger\">\n",
    "<b>Комментарий с замечанием ревьюера:</b> \n",
    "\n",
    "Общие продажи - плохая метрика для поиска наиболее прибыльного жанра. За высокими показателями общих продаж может скрываться множество мелких игр с низкими продажами. Или 2-3 звезды и куча провалов. Лучше найти жанр, где игры стабильно приносят высокий доход - для этого стоит рассмотреть средние или медианные продажи.\n",
    "    \n",
    "</div>\n"
   ]
  },
  {
   "cell_type": "markdown",
   "metadata": {},
   "source": [
    "<div class=\"alert alert-info\"> <b>Комментарий студента:</b> \n",
    "    Да, не учел этот момент. Подправил на медиану.\n",
    "</div>"
   ]
  },
  {
   "cell_type": "markdown",
   "metadata": {},
   "source": [
    "<div class=\"alert alert-success\">\n",
    "<b>Комментарий с комплиментом ревьюера в2:</b> \n",
    "\n",
    "Отлично\n",
    "</div> "
   ]
  },
  {
   "cell_type": "markdown",
   "metadata": {},
   "source": [
    "## Портрет пользователя каждого региона"
   ]
  },
  {
   "cell_type": "markdown",
   "metadata": {},
   "source": [
    "Необходимо определить для пользователя каждого региона (NA, EU, JP):\n",
    "- Самые популярные платформы (топ-5). Опишите различия в долях продаж.\n",
    "- Самые популярные жанры (топ-5). Поясните разницу.\n",
    "- Влияет ли рейтинг ESRB на продажи в отдельном регионе?\n",
    "\n",
    "Перед началом исследования посмотрим на все возможные значения `rating` и определим их значение:"
   ]
  },
  {
   "cell_type": "markdown",
   "metadata": {},
   "source": [
    "<div class=\"alert alert-danger\">\n",
    "<b>Комментарий с замечанием ревьюера:</b> \n",
    "\n",
    "Ты берешь большой актуальный период и захватываешь уже умирающие платформы, которые не помогут сделать прогноз на 2017 год.  \n",
    "</div>"
   ]
  },
  {
   "cell_type": "markdown",
   "metadata": {},
   "source": [
    "<div class=\"alert alert-info\"> <b>Комментарий студента:</b> \n",
    "    Да, выше этот момент уже учел.\n",
    "</div>"
   ]
  },
  {
   "cell_type": "code",
   "execution_count": 33,
   "metadata": {
    "scrolled": true
   },
   "outputs": [
    {
     "data": {
      "text/plain": [
       "array(['unknown', 'M', 'E', 'T', 'E10+'], dtype=object)"
      ]
     },
     "execution_count": 33,
     "metadata": {},
     "output_type": "execute_result"
    }
   ],
   "source": [
    "data_actual['rating'].unique()"
   ]
  },
  {
   "cell_type": "markdown",
   "metadata": {},
   "source": [
    "- `E` (Everyone) - Для всех\n",
    "- `M` (Mature) - Для взрослых\n",
    "- `E10+` - От 10 лет и старше\n",
    "- `T` (Teen) - Подросткам\n",
    "- `EC` (Early childhood) - Для детей младшего возраста\n",
    "- `RP` (Rating Pending) - Рейтинг ожидается"
   ]
  },
  {
   "cell_type": "markdown",
   "metadata": {},
   "source": [
    "<div class=\"alert alert-danger\">\n",
    "<b>Комментарий с замечанием ревьюера:</b> \n",
    "\n",
    "Согласно моему замечанию на этапе предобработке: заполнить пропуски в столбце rating значением \"unknown\", необходимо в анализе портрета пользователя не упустить игры без рейтинга, поскольку их доля велика.\n",
    "</div>\n"
   ]
  },
  {
   "cell_type": "markdown",
   "metadata": {},
   "source": [
    "<div class=\"alert alert-info\"> <b>Комментарий студента:</b> \n",
    "    Согласен, таких игр достаточно много. Учел это в предобработке.\n",
    "</div>"
   ]
  },
  {
   "cell_type": "markdown",
   "metadata": {},
   "source": [
    "<div class=\"alert alert-success\">\n",
    "<b>Комментарий с комплиментом ревьюера в2:</b> \n",
    "\n",
    "Молодец\n",
    "</div> "
   ]
  },
  {
   "cell_type": "markdown",
   "metadata": {},
   "source": [
    "Перейдем к составлению портретов. Начать можно с платформ:"
   ]
  },
  {
   "cell_type": "code",
   "execution_count": 34,
   "metadata": {},
   "outputs": [
    {
     "data": {
      "text/plain": [
       "Text(0, 0.5, 'Объем продаж в регионе')"
      ]
     },
     "execution_count": 34,
     "metadata": {},
     "output_type": "execute_result"
    },
    {
     "data": {
      "image/png": "[encoded data removed]",
      "text/plain": [
       "<Figure size 1080x576 with 1 Axes>"
      ]
     },
     "metadata": {
      "needs_background": "light"
     },
     "output_type": "display_data"
    },
    {
     "data": {
      "image/png": "[encoded data removed]",
      "text/plain": [
       "<Figure size 1080x576 with 1 Axes>"
      ]
     },
     "metadata": {
      "needs_background": "light"
     },
     "output_type": "display_data"
    },
    {
     "data": {
      "image/png": "[encoded data removed]",
      "text/plain": [
       "<Figure size 1080x576 with 1 Axes>"
      ]
     },
     "metadata": {
      "needs_background": "light"
     },
     "output_type": "display_data"
    }
   ],
   "source": [
    "#платформы EU:\n",
    "eu_data_platform = (data_actual.\n",
    "           pivot_table(index = 'platform', values = 'eu_sales', aggfunc = 'sum').\n",
    "           sort_values(by = 'eu_sales', ascending=False)\n",
    "          )\n",
    "\n",
    "plt.pyplot.figure(figsize = (15,8))\n",
    "plt.pyplot.title('Популярность платформ в EU')\n",
    "sb.barplot(x = eu_data_platform.index, y = eu_data_platform['eu_sales'])\n",
    "plt.pyplot.xlabel('Платформа')\n",
    "plt.pyplot.ylabel('Объем продаж в регионе')\n",
    "\n",
    "#платформы JP:\n",
    "jp_data_platform = (data_actual.\n",
    "           pivot_table(index = 'platform', values = 'jp_sales', aggfunc = 'sum').\n",
    "           sort_values(by = 'jp_sales', ascending=False)\n",
    "          )\n",
    "\n",
    "plt.pyplot.figure(figsize = (15,8))\n",
    "plt.pyplot.title('Популярность платформ в JP')\n",
    "sb.barplot(x = jp_data_platform.index, y = jp_data_platform['jp_sales'])\n",
    "plt.pyplot.xlabel('Платформа')\n",
    "plt.pyplot.ylabel('Объем продаж в регионе')\n",
    "\n",
    "#платформы NA:\n",
    "na_data_platform = (data_actual.\n",
    "           pivot_table(index = 'platform', values = 'na_sales', aggfunc = 'sum').\n",
    "           sort_values(by = 'na_sales', ascending=False)\n",
    "          )\n",
    "\n",
    "plt.pyplot.figure(figsize = (15,8))\n",
    "plt.pyplot.title('Популярность платформ в NA')\n",
    "sb.barplot(x = na_data_platform.index, y = na_data_platform['na_sales'])\n",
    "plt.pyplot.xlabel('Платформа')\n",
    "plt.pyplot.ylabel('Объем продаж в регионе')"
   ]
  },
  {
   "cell_type": "markdown",
   "metadata": {},
   "source": [
    "Перейдем к сравнению жанров:"
   ]
  },
  {
   "cell_type": "code",
   "execution_count": 35,
   "metadata": {},
   "outputs": [
    {
     "data": {
      "text/plain": [
       "Text(0, 0.5, 'Объем продаж в регионе')"
      ]
     },
     "execution_count": 35,
     "metadata": {},
     "output_type": "execute_result"
    },
    {
     "data": {
      "image/png": "[encoded data removed]",
      "text/plain": [
       "<Figure size 1080x576 with 1 Axes>"
      ]
     },
     "metadata": {
      "needs_background": "light"
     },
     "output_type": "display_data"
    },
    {
     "data": {
      "image/png": "[encoded data removed]",
      "text/plain": [
       "<Figure size 1080x576 with 1 Axes>"
      ]
     },
     "metadata": {
      "needs_background": "light"
     },
     "output_type": "display_data"
    },
    {
     "data": {
      "image/png": "[encoded data removed]",
      "text/plain": [
       "<Figure size 1080x576 with 1 Axes>"
      ]
     },
     "metadata": {
      "needs_background": "light"
     },
     "output_type": "display_data"
    }
   ],
   "source": [
    "#жанры EU:\n",
    "eu_data_genre = (data_actual.\n",
    "           pivot_table(index = 'genre', values = 'eu_sales', aggfunc = 'sum').\n",
    "           sort_values(by = 'eu_sales', ascending=False)\n",
    "          )\n",
    "\n",
    "plt.pyplot.figure(figsize = (15,8))\n",
    "plt.pyplot.title('Популярность жанров в EU')\n",
    "sb.barplot(x = eu_data_genre.index, y = eu_data_genre['eu_sales'])\n",
    "plt.pyplot.xlabel('Жанр')\n",
    "plt.pyplot.ylabel('Объем продаж в регионе')\n",
    "\n",
    "#жанры JP:\n",
    "jp_data_genre = (data_actual.\n",
    "           pivot_table(index = 'genre', values = 'jp_sales', aggfunc = 'sum').\n",
    "           sort_values(by = 'jp_sales', ascending=False)\n",
    "          )\n",
    "\n",
    "plt.pyplot.figure(figsize = (15,8))\n",
    "plt.pyplot.title('Популярность жанров в JP')\n",
    "sb.barplot(x = jp_data_genre.index, y = jp_data_genre['jp_sales'])\n",
    "plt.pyplot.xlabel('Жанр')\n",
    "plt.pyplot.ylabel('Объем продаж в регионе')\n",
    "\n",
    "#жанры NA:\n",
    "na_data_genre = (data_actual.\n",
    "           pivot_table(index = 'genre', values = 'na_sales', aggfunc = 'sum').\n",
    "           sort_values(by = 'na_sales', ascending=False)\n",
    "          )\n",
    "\n",
    "plt.pyplot.figure(figsize = (15,8))\n",
    "plt.pyplot.title('Популярность жанров в NA')\n",
    "sb.barplot(x = na_data_genre.index, y = na_data_genre['na_sales'])\n",
    "plt.pyplot.xlabel('Жанр')\n",
    "plt.pyplot.ylabel('Объем продаж в регионе')"
   ]
  },
  {
   "cell_type": "markdown",
   "metadata": {},
   "source": [
    "И наконец перейдем к сравнению рейтингов:"
   ]
  },
  {
   "cell_type": "code",
   "execution_count": 36,
   "metadata": {},
   "outputs": [
    {
     "data": {
      "text/plain": [
       "Text(0, 0.5, 'Объем продаж в регионе')"
      ]
     },
     "execution_count": 36,
     "metadata": {},
     "output_type": "execute_result"
    },
    {
     "data": {
      "image/png": "[encoded data removed]",
      "text/plain": [
       "<Figure size 1080x576 with 1 Axes>"
      ]
     },
     "metadata": {
      "needs_background": "light"
     },
     "output_type": "display_data"
    },
    {
     "data": {
      "image/png": "[encoded data removed]",
      "text/plain": [
       "<Figure size 1080x576 with 1 Axes>"
      ]
     },
     "metadata": {
      "needs_background": "light"
     },
     "output_type": "display_data"
    },
    {
     "data": {
      "image/png": "[encoded data removed]",
      "text/plain": [
       "<Figure size 1080x576 with 1 Axes>"
      ]
     },
     "metadata": {
      "needs_background": "light"
     },
     "output_type": "display_data"
    }
   ],
   "source": [
    "#рейтинг EU:\n",
    "eu_data_rating = (data_actual.query('rating != -1').\n",
    "           pivot_table(index = 'rating', values = 'eu_sales', aggfunc = 'sum').\n",
    "           sort_values(by = 'eu_sales', ascending=False)\n",
    "          )\n",
    "\n",
    "plt.pyplot.figure(figsize = (15,8))\n",
    "plt.pyplot.title('Распределение игр по рейтингу в регионе EU')\n",
    "sb.barplot(x = eu_data_rating.index, y = eu_data_rating['eu_sales'])\n",
    "plt.pyplot.xlabel('Рейтинг')\n",
    "plt.pyplot.ylabel('Объем продаж в регионе')\n",
    "\n",
    "#рейтинг JP:\n",
    "jp_data_rating = (data_actual.query('rating != -1').\n",
    "           pivot_table(index = 'rating', values = 'jp_sales', aggfunc = 'sum').\n",
    "           sort_values(by = 'jp_sales', ascending=False)\n",
    "          )\n",
    "\n",
    "plt.pyplot.figure(figsize = (15,8))\n",
    "plt.pyplot.title('Распределение игр по рейтингу в регионе JP')\n",
    "sb.barplot(x = jp_data_rating.index, y = jp_data_rating['jp_sales'])\n",
    "plt.pyplot.xlabel('Рейтинг')\n",
    "plt.pyplot.ylabel('Объем продаж в регионе')\n",
    "\n",
    "#рейтинг NA:\n",
    "na_data_rating = (data_actual.query('rating != -1').\n",
    "           pivot_table(index = 'rating', values = 'na_sales', aggfunc = 'sum').\n",
    "           sort_values(by = 'na_sales', ascending=False)\n",
    "          )\n",
    "\n",
    "plt.pyplot.figure(figsize = (15,8))\n",
    "plt.pyplot.title('Распределение игр по рейтингу в регионе NA')\n",
    "sb.barplot(x = na_data_rating.index, y = na_data_rating['na_sales'])\n",
    "plt.pyplot.xlabel('Рейтинг')\n",
    "plt.pyplot.ylabel('Объем продаж в регионе')"
   ]
  },
  {
   "cell_type": "markdown",
   "metadata": {},
   "source": [
    "Таким образом, получили следующие портреты пользователей:\n",
    "\n",
    "**EU регион**\n",
    "- 5 наиболее популярных платформ в EU регионе: ***PS4, XOne, PS3, PC. 3DS***. Стоит отметить что PS4 лидирует с огромным отрывом. Разница с ближайшим конкурентом XOne - почти в 3 раза.\n",
    "- 5 наиболее популярных жанров - ***action, shooter, sports, role-playing, racing***. С жанрами аналогичная ситуация - экшн игры и шутеры сильно выделяются. Однако дальше идет равномерное уменьшение популярности жанров.\n",
    "- Топ-рейтингов - \"Для взрослых\" и \"Для всех\", игры без рейтинга вторые по популярности\n",
    "\n",
    "**JP регион**\n",
    "- 5 наиболее популярных платформ в JP регионе: ***3DS, PS4, PSV, PS3, WiiU***\n",
    "- 5 наиболее популярных жанров в JP регионе: ***role_playing, action, fighting, misc, shooter***\n",
    "- Топ-рейтингов - \"Для всех\" и \"Подросткам. При этом большая часть игр рейтинга не имеет.\n",
    "\n",
    "Ситуация в японском регионе совершенно отличается от европейского. Тут на первом месте стоит платформа 3DS, чья доля почти в 3 раза больше чем у ближайшего конкурента - PS4. При этом популярные в Европе XOne и PS3 пользуются очень низкой популярностью. Это можно объяснить тем что компания Nintendo, производящая 3DS как раз располагается в Японии и ориентируется в первую очередь на жителей своего региона. Отсюда консоли (и соответственно игры компании выходящие на них) намного популярнее чем все остальные платформы и жанры. Даже DS которая в Европе занимает 8 место по популярности располагается в Японии на 4 месте. По жанрам ситуация тоже кардинально отличается - японцев в основном интересуют ролевые игры, чуть менее популярны экшн игры. Все остальные жанры имеют схожую низкую популярность. При этом можно отметить, что самые популярные платформы - портативные консоли (3DS и DS, PSP и PSV). Также возрастной рейтинг большей части игр отличаются - японцы больше предпочитают игры \"Для всех\".\n",
    "\n",
    "**NA регион**\n",
    "- 5 наиболее популярных платформ в NA регионе: ***PS4, XOne, X360, 3DS, PS3***\n",
    "- 5 наиболее популярных жанров в NA регионе: ***shooter, action, sports, role-playing, misc***\n",
    "- Топ-рейтингов - \"Для взрослых\" и \"Для всех\", игры без рейтинга на 2м месте по популярности.\n",
    "\n",
    "А вот NA регион очень схож с EU регионом. Все так же PS4 наиболее популярна, XOne на втором месте. Платформа PC имеет значительно меньшую популярность чем в Европе. Это опять же можно оправдать тем что Microsoft - компания, производящая консоли X360 и XOne находится в Америке. По жанрам же почти полное совпадение - из значимых лишь шутеры и экшн поменялись местами в рейтинге. Возрастной рейтинг полностью идентичен по распределению.\n",
    "\n"
   ]
  },
  {
   "cell_type": "markdown",
   "metadata": {},
   "source": [
    "**Вывод:** \n",
    "\n",
    "Пользователи из NA и EU регионов во многом схожи между собой. Небольшие отличия присутствуют лишь в популярных платформах, распределение по рейтингу игр абсолютно одинаковое. А вот пользователи из JP региона сильно отличаются - при чем как в выборе платформы,так и в жанрах игр, в рейтинге. Подавляющее большинство японцев играют в ролевые игры, чуть поменьше - в экшн, а остальные жанры им почти не интересны. И самые популярные консоли от производителей которые также располагаются в Японии - Nintendo и Sony. При этом пользователи из Японии предпочитают игры с возрастным ограничением \"Для всех\", в то время как в Америке и Европе больше любят игры \"Для взрослых\"."
   ]
  },
  {
   "cell_type": "markdown",
   "metadata": {},
   "source": [
    "<div class=\"alert alert-success\">\n",
    "<b>Комментарий с комплиментом ревьюера:</b> \n",
    "\n",
    "Отличный вывод, молодец, что обосновал различия в регионах.\n",
    "    \n",
    "После того, как уменьшишь актуальный период, данные не много изменяться, не заубдь скорректировать вывод.\n",
    "    \n",
    "</div>\n"
   ]
  },
  {
   "cell_type": "markdown",
   "metadata": {},
   "source": [
    "<div class=\"alert alert-info\"> <b>Комментарий студента:</b> \n",
    "    Да, вижу небольшие изменения, подправил!\n",
    "</div>"
   ]
  },
  {
   "cell_type": "markdown",
   "metadata": {},
   "source": [
    "<div class=\"alert alert-success\">\n",
    "<b>Комментарий с комплиментом ревьюера в2:</b> \n",
    "\n",
    "Отлично\n",
    "</div> "
   ]
  },
  {
   "cell_type": "markdown",
   "metadata": {},
   "source": [
    "## Проверка гипотез"
   ]
  },
  {
   "cell_type": "markdown",
   "metadata": {},
   "source": [
    "Необходимо проверить 2 гипотезы:\n",
    "- Средние пользовательские рейтинги платформ Xbox One и PC одинаковые;\n",
    "- Средние пользовательские рейтинги жанров Action (англ. «действие», экшен-игры) и Sports (англ. «спортивные соревнования») разные.\n",
    "\n",
    "Начнем с первой: \n",
    "- **Ho** - \"Средние пользовательские рейтинги платформ Xbox One и PC одинаковые\".\n",
    "Сформулируем альтернативную двустороннюю гипотезу: \n",
    "- **H1** - \"Средние пользовательские рейтинги платформ Xbox One и PC не равны\".\n",
    "\n",
    "Попробуем опровергнуть гипотезу:"
   ]
  },
  {
   "cell_type": "code",
   "execution_count": 37,
   "metadata": {},
   "outputs": [
    {
     "name": "stdout",
     "output_type": "stream",
     "text": [
      "p-значение: 0.11601398086668832\n",
      "Не получилось отвергнуть нулевую гипотезу\n"
     ]
    }
   ],
   "source": [
    "xone_data = data_actual[data_actual['platform']=='XOne']['user_score']\n",
    "pc_data = data_actual[data_actual['platform']=='PC']['user_score']\n",
    "\n",
    "alpha = 0.01\n",
    "\n",
    "results = st.ttest_ind(xone_data.dropna(), pc_data.dropna(), equal_var=False)\n",
    "\n",
    "print('p-значение:', results.pvalue)\n",
    "\n",
    "\n",
    "if (results.pvalue < alpha):\n",
    "    print(\"Отвергаем нулевую гипотезу\")\n",
    "else:\n",
    "    print(\"Не получилось отвергнуть нулевую гипотезу\")"
   ]
  },
  {
   "cell_type": "markdown",
   "metadata": {},
   "source": [
    "Выполним проверку:"
   ]
  },
  {
   "cell_type": "code",
   "execution_count": 38,
   "metadata": {},
   "outputs": [
    {
     "name": "stdout",
     "output_type": "stream",
     "text": [
      "Средний пользовательский рейтинг на платформе XOne: 6.594545454545454\n",
      "Средний пользовательский рейтинг на платформе PC: 6.298360655737704\n"
     ]
    }
   ],
   "source": [
    "print('Средний пользовательский рейтинг на платформе XOne:', xone_data.mean())\n",
    "print('Средний пользовательский рейтинг на платформе PC:', pc_data.mean())"
   ]
  },
  {
   "cell_type": "markdown",
   "metadata": {},
   "source": [
    "И правда, значения отличаются всего на одну сотую"
   ]
  },
  {
   "cell_type": "markdown",
   "metadata": {},
   "source": [
    "Теперь вторая гипотеза. В данном случае удобнее будет установить нулевой гипотезой совпадений средних рейтингов, а альтернативной - различие. В случае если сможем отвергнуть нулевую гипотезу, можно будет утверждать что гипотеза \"Средние пользовательские рейтинги жанров Action (англ. «действие», экшен-игры) и Sports (англ. «спортивные соревнования») разные.\" верна.\n",
    "\n",
    "- **Ho** - \"Средние пользовательские рейтинги жанров Action (англ. «действие», экшен-игры) и Sports (англ. «спортивные соревнования») равны.\".\n",
    "Сформулируем альтернативную двустороннюю гипотезу: \n",
    "- **H1** - \"Средние пользовательские рейтинги жанров Action (англ. «действие», экшен-игры) и Sports (англ. «спортивные соревнования») разные\".\n",
    "\n",
    "Приступим к расчету:"
   ]
  },
  {
   "cell_type": "code",
   "execution_count": 39,
   "metadata": {},
   "outputs": [
    {
     "name": "stdout",
     "output_type": "stream",
     "text": [
      "p-значение: 1.1825550382644557e-14\n",
      "Отвергаем нулевую гипотезу\n"
     ]
    }
   ],
   "source": [
    "data_action = data_actual[data_actual['genre']=='action']['user_score']\n",
    "data_sports = data_actual[data_actual['genre']=='sports']['user_score']\n",
    "\n",
    "alpha = .01\n",
    "\n",
    "results = st.ttest_ind(data_action.dropna(), data_sports.dropna(), equal_var=False)\n",
    "\n",
    "print('p-значение:', results.pvalue)\n",
    "\n",
    "\n",
    "if (results.pvalue < alpha):\n",
    "    print(\"Отвергаем нулевую гипотезу\")\n",
    "else:\n",
    "    print(\"Не получилось отвергнуть нулевую гипотезу\")"
   ]
  },
  {
   "cell_type": "markdown",
   "metadata": {},
   "source": [
    "Выполним проверку:"
   ]
  },
  {
   "cell_type": "code",
   "execution_count": 40,
   "metadata": {},
   "outputs": [
    {
     "name": "stdout",
     "output_type": "stream",
     "text": [
      "Средний пользовательский рейтинг в жанре Экшн: 6.760606060606061\n",
      "Средний пользовательский рейтинг в жанре Спорт: 5.225196850393701\n"
     ]
    }
   ],
   "source": [
    "print('Средний пользовательский рейтинг в жанре Экшн:', data_action.mean())\n",
    "print('Средний пользовательский рейтинг в жанре Спорт:', data_sports.mean())"
   ]
  },
  {
   "cell_type": "markdown",
   "metadata": {},
   "source": [
    "Значит гипотеза \"Средние пользовательские рейтинги жанров Action (англ. «действие», экшен-игры) и Sports (англ. «спортивные соревнования») равны\" опровергнута"
   ]
  },
  {
   "cell_type": "markdown",
   "metadata": {},
   "source": [
    "**Вывод:**\n",
    "\n",
    "Первая гипотеза не была опровергнута, а альтернативная гипотеза для второй была опровергнута."
   ]
  },
  {
   "cell_type": "markdown",
   "metadata": {},
   "source": [
    "<div class=\"alert alert-success\">\n",
    "<b>Комментарий с комплиментом ревьюера:</b> \n",
    "\n",
    "Ты правильно формулируешь нулевую и альтернативную гипотезы, используешь верный метод для проверки гипотез и получаешь корректный результат проверки.\n",
    "</div>\n"
   ]
  },
  {
   "cell_type": "markdown",
   "metadata": {},
   "source": [
    "## Общий вывод"
   ]
  },
  {
   "cell_type": "markdown",
   "metadata": {},
   "source": [
    "Было проведено исследование рынка игр за актуальный период с 2010 по 2016 год. Обусловлен период тем, что он отражает поведение рынка лучше чем все предыдущие года (после 2010 года произошел спад из за появления мобильных игр, а до 2000го игр было очень мало). При изучении данных были выделены две потенциально прибыльные платформы - PS4, Xbox One.\n",
    "\n",
    "Также было изучено влияние отзывов игроков и критиков на продажи внутри платформы. Выявлено, что корреляция между продажами и отзывами игроков отсутствует, а корреляция между продажами и отзывами критиков слабая (коэф-т Пирсона ~[0.3;0.4])\n",
    "\n",
    "Анализ игр различных жанров показал, что наиболее популярные и прибыльные жанры - `action`, `shooter` и `role-play`.\n",
    "\n",
    "В процессе исследования были также составлены портреты пользователя каждого региона: \n",
    "\n",
    "**EU регион**\n",
    "- 5 наиболее популярных платформ в EU регионе: ***PS3, X360, PS4, PC, Wii***. Стоит отметить что PS3, X360 и PS4 лидируют с достаточно большим отрывом.\n",
    "- 5 наиболее популярных жанров - ***action, shooter, sports, role-playing, misc***. С жанрами аналогичная ситуация - экшн игры и шутеры сильно выделяются. Однако дальше идет равномерное уменьшение популярности жанров.\n",
    "- Топ-рейтингов - **\"Для взрослых\"** и **\"Для всех\"**\n",
    "\n",
    "**JP регион**\n",
    "- 5 наиболее популярных платформ в JP регионе: ***3DS, PS3, PSP, DS, PSV***\n",
    "- 5 наиболее популярных жанров в JP регионе: ***role_playing, action, misc, platform, adventure***\n",
    "- Топ-рейтингов - **\"Для всех\"** и **\"Подросткам\"**\n",
    "\n",
    "**NA регион**\n",
    "- 5 наиболее популярных платформ в NA регионе: ***X360, PS3, Wii, PS4, XOne***\n",
    "- 5 наиболее популярных жанров в NA регионе: ***action, shooter, sports, misc, role-playing***\n",
    "- Топ-рейтингов - **\"Для взрослых\"** и **\"Для всех\"**\n",
    "\n",
    "И проверены две гипотезы: \n",
    "\n",
    "- Средние пользовательские рейтинги платформ Xbox One и PC одинаковые - **гипотезу не удалось опровергнуть**\n",
    "- Средние пользовательские рейтинги жанров Action (англ. «действие», экшен-игры) и Sports (англ. «спортивные соревнования») равны - **гипотеза опровергнута**"
   ]
  },
  {
   "cell_type": "markdown",
   "metadata": {},
   "source": [
    "<div class=\"alert alert-success\">\n",
    "<b>Комментарий с комплиментом ревьюера:</b> \n",
    "    \n",
    "Хороший аналитический вывод, ты вынес основные данные, которые получил в результате анализа и ответил на цель исследования.\n",
    "    \n",
    "Скорректируй его, пожалуйста, после исправления замечаний.\n",
    "</div>\n"
   ]
  },
  {
   "cell_type": "markdown",
   "metadata": {},
   "source": [
    "<div style=\"border:solid Chocolate 2px; padding: 40px\">\n",
    "\n",
    "# Общий вывод ревьюера по проекту\n",
    "\n",
    "<div class=\"alert alert-success\">\n",
    "Ты проделал хорошую аналитическую работу. Код написан чисто, соблюдена структура проекта и написаны логичные и обоснованные выводы. Есть несколько замечаний, исправь их и проект будет принят.\n",
    "</div>\n",
    "\n",
    "<div class=\"alert alert-danger\">\n",
    "    \n",
    "- заполни пропуски в столбце rating специальным значением и проанализируй их при составлении портрета пользователя\n",
    "\n",
    "- сократи актуальный период    \n",
    "    \n",
    "- не забывай, что после того как ты определил актуальный период, в следующих шагах следует использовать только его\n",
    "    \n",
    "- скорректируй, пожалуйста, анализ прибыльных жанров\n",
    "    \n",
    "- скорректируй график box plot\n",
    "    \n",
    "- скорректируй оформление график в проекте.\n",
    "\n",
    "</div>\n",
    "</div>\n"
   ]
  },
  {
   "cell_type": "code",
   "execution_count": null,
   "metadata": {},
   "outputs": [],
   "source": []
  }
 ],
 "metadata": {
  "ExecuteTimeLog": [
   {
    "duration": 1415,
    "start_time": "2022-11-21T10:37:14.668Z"
   },
   {
    "duration": 55,
    "start_time": "2022-11-21T10:37:28.970Z"
   },
   {
    "duration": 17,
    "start_time": "2022-11-21T10:37:46.288Z"
   },
   {
    "duration": 14,
    "start_time": "2022-11-21T10:38:04.580Z"
   },
   {
    "duration": 54,
    "start_time": "2022-11-21T10:40:14.722Z"
   },
   {
    "duration": 14,
    "start_time": "2022-11-21T10:40:15.547Z"
   },
   {
    "duration": 20,
    "start_time": "2022-11-21T10:40:16.633Z"
   },
   {
    "duration": 781,
    "start_time": "2022-11-21T10:41:03.287Z"
   },
   {
    "duration": 51,
    "start_time": "2022-11-21T10:41:56.277Z"
   },
   {
    "duration": 15,
    "start_time": "2022-11-21T10:41:56.581Z"
   },
   {
    "duration": 14,
    "start_time": "2022-11-21T10:41:56.880Z"
   },
   {
    "duration": 740,
    "start_time": "2022-11-21T10:41:57.203Z"
   },
   {
    "duration": 69,
    "start_time": "2022-11-21T11:29:59.415Z"
   },
   {
    "duration": 11,
    "start_time": "2022-11-21T11:30:10.493Z"
   },
   {
    "duration": 61,
    "start_time": "2022-11-21T12:24:39.157Z"
   },
   {
    "duration": 85,
    "start_time": "2022-11-21T12:25:26.439Z"
   },
   {
    "duration": 10,
    "start_time": "2022-11-21T12:27:28.213Z"
   },
   {
    "duration": 17,
    "start_time": "2022-11-21T12:27:32.800Z"
   },
   {
    "duration": 102,
    "start_time": "2022-11-21T12:34:05.589Z"
   },
   {
    "duration": 312,
    "start_time": "2022-11-21T12:34:10.251Z"
   },
   {
    "duration": 12,
    "start_time": "2022-11-21T12:34:24.813Z"
   },
   {
    "duration": 3,
    "start_time": "2022-11-21T12:34:29.302Z"
   },
   {
    "duration": 5,
    "start_time": "2022-11-21T12:34:53.033Z"
   },
   {
    "duration": 21,
    "start_time": "2022-11-21T12:36:22.160Z"
   },
   {
    "duration": 24,
    "start_time": "2022-11-21T12:37:22.118Z"
   },
   {
    "duration": 26,
    "start_time": "2022-11-21T12:38:55.820Z"
   },
   {
    "duration": 35,
    "start_time": "2022-11-21T12:42:00.972Z"
   },
   {
    "duration": 35,
    "start_time": "2022-11-21T12:42:16.385Z"
   },
   {
    "duration": 19,
    "start_time": "2022-11-21T12:43:13.688Z"
   },
   {
    "duration": 28,
    "start_time": "2022-11-21T12:44:14.531Z"
   },
   {
    "duration": 19,
    "start_time": "2022-11-21T12:44:33.688Z"
   },
   {
    "duration": 18,
    "start_time": "2022-11-21T12:44:40.614Z"
   },
   {
    "duration": 6,
    "start_time": "2022-11-21T12:46:44.969Z"
   },
   {
    "duration": 13,
    "start_time": "2022-11-21T12:49:23.593Z"
   },
   {
    "duration": 64,
    "start_time": "2022-11-21T12:49:33.590Z"
   },
   {
    "duration": 16,
    "start_time": "2022-11-21T12:49:33.657Z"
   },
   {
    "duration": 15,
    "start_time": "2022-11-21T12:49:33.675Z"
   },
   {
    "duration": 916,
    "start_time": "2022-11-21T12:49:33.692Z"
   },
   {
    "duration": 7,
    "start_time": "2022-11-21T12:49:34.611Z"
   },
   {
    "duration": 23,
    "start_time": "2022-11-21T12:49:34.620Z"
   },
   {
    "duration": 15,
    "start_time": "2022-11-21T12:49:34.651Z"
   },
   {
    "duration": 24,
    "start_time": "2022-11-21T12:49:34.668Z"
   },
   {
    "duration": 17,
    "start_time": "2022-11-21T12:49:36.322Z"
   },
   {
    "duration": 9,
    "start_time": "2022-11-21T12:53:45.573Z"
   },
   {
    "duration": 15,
    "start_time": "2022-11-21T12:54:11.273Z"
   },
   {
    "duration": 50,
    "start_time": "2022-11-21T12:56:14.325Z"
   },
   {
    "duration": 17,
    "start_time": "2022-11-21T12:56:14.879Z"
   },
   {
    "duration": 15,
    "start_time": "2022-11-21T12:56:15.523Z"
   },
   {
    "duration": 818,
    "start_time": "2022-11-21T12:56:16.111Z"
   },
   {
    "duration": 5,
    "start_time": "2022-11-21T12:56:16.978Z"
   },
   {
    "duration": 19,
    "start_time": "2022-11-21T12:56:18.919Z"
   },
   {
    "duration": 11,
    "start_time": "2022-11-21T12:56:19.516Z"
   },
   {
    "duration": 15,
    "start_time": "2022-11-21T12:56:22.686Z"
   },
   {
    "duration": 15,
    "start_time": "2022-11-21T12:56:24.445Z"
   },
   {
    "duration": 8,
    "start_time": "2022-11-21T12:56:25.173Z"
   },
   {
    "duration": 14,
    "start_time": "2022-11-21T12:56:31.073Z"
   },
   {
    "duration": 18,
    "start_time": "2022-11-21T12:56:33.447Z"
   },
   {
    "duration": 13,
    "start_time": "2022-11-21T12:56:40.494Z"
   },
   {
    "duration": 29,
    "start_time": "2022-11-21T12:57:46.672Z"
   },
   {
    "duration": 31,
    "start_time": "2022-11-21T12:58:20.053Z"
   },
   {
    "duration": 12,
    "start_time": "2022-11-21T12:59:37.669Z"
   },
   {
    "duration": 6,
    "start_time": "2022-11-21T13:19:50.041Z"
   },
   {
    "duration": 8,
    "start_time": "2022-11-21T13:23:52.388Z"
   },
   {
    "duration": 10,
    "start_time": "2022-11-21T13:23:58.313Z"
   },
   {
    "duration": 4,
    "start_time": "2022-11-21T13:24:04.259Z"
   },
   {
    "duration": 7,
    "start_time": "2022-11-21T13:24:13.784Z"
   },
   {
    "duration": 5,
    "start_time": "2022-11-21T13:25:09.987Z"
   },
   {
    "duration": 4,
    "start_time": "2022-11-21T13:26:13.909Z"
   },
   {
    "duration": 5,
    "start_time": "2022-11-21T13:26:22.059Z"
   },
   {
    "duration": 4,
    "start_time": "2022-11-21T13:26:37.502Z"
   },
   {
    "duration": 15,
    "start_time": "2022-11-21T13:30:09.538Z"
   },
   {
    "duration": 61,
    "start_time": "2022-11-21T13:30:20.135Z"
   },
   {
    "duration": 18,
    "start_time": "2022-11-21T13:30:20.587Z"
   },
   {
    "duration": 15,
    "start_time": "2022-11-21T13:30:21.949Z"
   },
   {
    "duration": 6,
    "start_time": "2022-11-21T13:30:35.714Z"
   },
   {
    "duration": 1166,
    "start_time": "2022-11-21T13:30:55.966Z"
   },
   {
    "duration": 59,
    "start_time": "2022-11-21T13:31:02.100Z"
   },
   {
    "duration": 17,
    "start_time": "2022-11-21T13:31:02.161Z"
   },
   {
    "duration": 14,
    "start_time": "2022-11-21T13:31:02.180Z"
   },
   {
    "duration": 8,
    "start_time": "2022-11-21T13:31:02.196Z"
   },
   {
    "duration": 807,
    "start_time": "2022-11-21T13:31:02.206Z"
   },
   {
    "duration": 5,
    "start_time": "2022-11-21T13:31:03.015Z"
   },
   {
    "duration": 17,
    "start_time": "2022-11-21T13:31:05.725Z"
   },
   {
    "duration": 6,
    "start_time": "2022-11-21T13:31:18.617Z"
   },
   {
    "duration": 1288,
    "start_time": "2022-11-21T13:32:35.709Z"
   },
   {
    "duration": 49,
    "start_time": "2022-11-21T13:32:54.625Z"
   },
   {
    "duration": 17,
    "start_time": "2022-11-21T13:32:54.948Z"
   },
   {
    "duration": 14,
    "start_time": "2022-11-21T13:32:56.281Z"
   },
   {
    "duration": 7,
    "start_time": "2022-11-21T13:32:56.782Z"
   },
   {
    "duration": 17,
    "start_time": "2022-11-21T13:35:16.238Z"
   },
   {
    "duration": 27,
    "start_time": "2022-11-21T13:35:19.364Z"
   },
   {
    "duration": 17,
    "start_time": "2022-11-21T13:35:26.958Z"
   },
   {
    "duration": 18,
    "start_time": "2022-11-21T13:35:45.552Z"
   },
   {
    "duration": 50,
    "start_time": "2022-11-21T13:46:39.938Z"
   },
   {
    "duration": 15,
    "start_time": "2022-11-21T13:46:39.990Z"
   },
   {
    "duration": 109,
    "start_time": "2022-11-21T13:46:40.007Z"
   },
   {
    "duration": 778,
    "start_time": "2022-11-21T13:46:40.118Z"
   },
   {
    "duration": 1563,
    "start_time": "2022-11-21T13:47:24.881Z"
   },
   {
    "duration": 1181,
    "start_time": "2022-11-21T13:47:40.774Z"
   },
   {
    "duration": 54,
    "start_time": "2022-11-21T13:47:45.307Z"
   },
   {
    "duration": 18,
    "start_time": "2022-11-21T13:47:45.363Z"
   },
   {
    "duration": 15,
    "start_time": "2022-11-21T13:47:45.383Z"
   },
   {
    "duration": 804,
    "start_time": "2022-11-21T13:47:45.400Z"
   },
   {
    "duration": 5,
    "start_time": "2022-11-21T13:47:46.207Z"
   },
   {
    "duration": 5,
    "start_time": "2022-11-21T13:47:56.432Z"
   },
   {
    "duration": 6,
    "start_time": "2022-11-21T13:47:57.161Z"
   },
   {
    "duration": 5,
    "start_time": "2022-11-21T13:48:53.165Z"
   },
   {
    "duration": 7,
    "start_time": "2022-11-21T13:49:00.850Z"
   },
   {
    "duration": 6,
    "start_time": "2022-11-21T13:49:06.874Z"
   },
   {
    "duration": 4,
    "start_time": "2022-11-21T13:50:12.406Z"
   },
   {
    "duration": 23,
    "start_time": "2022-11-21T13:51:34.189Z"
   },
   {
    "duration": 20,
    "start_time": "2022-11-21T13:51:41.097Z"
   },
   {
    "duration": 8,
    "start_time": "2022-11-21T13:52:28.363Z"
   },
   {
    "duration": 6,
    "start_time": "2022-11-21T13:52:32.290Z"
   },
   {
    "duration": 13,
    "start_time": "2022-11-21T13:53:03.298Z"
   },
   {
    "duration": 6,
    "start_time": "2022-11-21T13:53:21.476Z"
   },
   {
    "duration": 13,
    "start_time": "2022-11-21T13:54:22.223Z"
   },
   {
    "duration": 14,
    "start_time": "2022-11-21T13:54:34.697Z"
   },
   {
    "duration": 13,
    "start_time": "2022-11-21T13:54:46.151Z"
   },
   {
    "duration": 10,
    "start_time": "2022-11-21T13:55:38.911Z"
   },
   {
    "duration": 9,
    "start_time": "2022-11-21T13:55:54.200Z"
   },
   {
    "duration": 27,
    "start_time": "2022-11-21T13:56:37.647Z"
   },
   {
    "duration": 8,
    "start_time": "2022-11-21T13:56:44.130Z"
   },
   {
    "duration": 12,
    "start_time": "2022-11-21T13:57:07.482Z"
   },
   {
    "duration": 76,
    "start_time": "2022-11-21T13:57:55.039Z"
   },
   {
    "duration": 7,
    "start_time": "2022-11-21T13:57:57.600Z"
   },
   {
    "duration": 76,
    "start_time": "2022-11-21T13:59:09.603Z"
   },
   {
    "duration": 5,
    "start_time": "2022-11-21T14:01:56.285Z"
   },
   {
    "duration": 5,
    "start_time": "2022-11-21T14:03:12.643Z"
   },
   {
    "duration": 10,
    "start_time": "2022-11-21T14:04:25.464Z"
   },
   {
    "duration": 11,
    "start_time": "2022-11-21T14:05:32.314Z"
   },
   {
    "duration": 5,
    "start_time": "2022-11-21T14:06:44.890Z"
   },
   {
    "duration": 6,
    "start_time": "2022-11-21T14:09:51.168Z"
   },
   {
    "duration": 4,
    "start_time": "2022-11-21T14:10:26.192Z"
   },
   {
    "duration": 51,
    "start_time": "2022-11-21T14:11:00.337Z"
   },
   {
    "duration": 13,
    "start_time": "2022-11-21T14:11:16.122Z"
   },
   {
    "duration": 50,
    "start_time": "2022-11-21T14:11:57.155Z"
   },
   {
    "duration": 15,
    "start_time": "2022-11-21T14:11:57.207Z"
   },
   {
    "duration": 15,
    "start_time": "2022-11-21T14:11:57.224Z"
   },
   {
    "duration": 772,
    "start_time": "2022-11-21T14:11:57.241Z"
   },
   {
    "duration": 6,
    "start_time": "2022-11-21T14:11:58.016Z"
   },
   {
    "duration": 7,
    "start_time": "2022-11-21T14:11:58.023Z"
   },
   {
    "duration": 31,
    "start_time": "2022-11-21T14:11:58.032Z"
   },
   {
    "duration": 8,
    "start_time": "2022-11-21T14:11:58.065Z"
   },
   {
    "duration": 14,
    "start_time": "2022-11-21T14:11:58.075Z"
   },
   {
    "duration": 19,
    "start_time": "2022-11-21T14:11:58.091Z"
   },
   {
    "duration": 45,
    "start_time": "2022-11-21T14:11:58.112Z"
   },
   {
    "duration": 14,
    "start_time": "2022-11-21T14:11:58.159Z"
   },
   {
    "duration": 4,
    "start_time": "2022-11-21T14:11:58.175Z"
   },
   {
    "duration": 20,
    "start_time": "2022-11-21T14:11:58.183Z"
   },
   {
    "duration": 46,
    "start_time": "2022-11-21T14:11:58.205Z"
   },
   {
    "duration": 140,
    "start_time": "2022-11-21T14:11:58.253Z"
   },
   {
    "duration": 11,
    "start_time": "2022-11-21T14:11:58.396Z"
   },
   {
    "duration": 7,
    "start_time": "2022-11-21T14:11:58.409Z"
   },
   {
    "duration": 8,
    "start_time": "2022-11-21T14:12:32.922Z"
   },
   {
    "duration": 4,
    "start_time": "2022-11-21T14:12:37.719Z"
   },
   {
    "duration": 7,
    "start_time": "2022-11-21T14:12:38.191Z"
   },
   {
    "duration": 14,
    "start_time": "2022-11-21T14:12:59.738Z"
   },
   {
    "duration": 6,
    "start_time": "2022-11-21T14:13:04.482Z"
   },
   {
    "duration": 6,
    "start_time": "2022-11-21T14:13:34.808Z"
   },
   {
    "duration": 14,
    "start_time": "2022-11-21T14:13:40.455Z"
   },
   {
    "duration": 54,
    "start_time": "2022-11-21T14:13:44.717Z"
   },
   {
    "duration": 16,
    "start_time": "2022-11-21T14:13:44.773Z"
   },
   {
    "duration": 15,
    "start_time": "2022-11-21T14:13:44.791Z"
   },
   {
    "duration": 822,
    "start_time": "2022-11-21T14:13:44.808Z"
   },
   {
    "duration": 6,
    "start_time": "2022-11-21T14:13:45.633Z"
   },
   {
    "duration": 9,
    "start_time": "2022-11-21T14:13:45.651Z"
   },
   {
    "duration": 32,
    "start_time": "2022-11-21T14:13:45.662Z"
   },
   {
    "duration": 15,
    "start_time": "2022-11-21T14:13:45.696Z"
   },
   {
    "duration": 16,
    "start_time": "2022-11-21T14:13:45.713Z"
   },
   {
    "duration": 24,
    "start_time": "2022-11-21T14:13:45.730Z"
   },
   {
    "duration": 14,
    "start_time": "2022-11-21T14:13:45.755Z"
   },
   {
    "duration": 12,
    "start_time": "2022-11-21T14:13:45.771Z"
   },
   {
    "duration": 4,
    "start_time": "2022-11-21T14:13:45.784Z"
   },
   {
    "duration": 18,
    "start_time": "2022-11-21T14:13:45.790Z"
   },
   {
    "duration": 42,
    "start_time": "2022-11-21T14:13:45.810Z"
   },
   {
    "duration": 12,
    "start_time": "2022-11-21T14:13:45.854Z"
   },
   {
    "duration": 9,
    "start_time": "2022-11-21T14:13:45.868Z"
   },
   {
    "duration": 10,
    "start_time": "2022-11-21T14:13:45.879Z"
   },
   {
    "duration": 4,
    "start_time": "2022-11-21T14:14:03.980Z"
   },
   {
    "duration": 19,
    "start_time": "2022-11-21T14:14:04.398Z"
   },
   {
    "duration": 7,
    "start_time": "2022-11-21T14:14:12.219Z"
   },
   {
    "duration": 53,
    "start_time": "2022-11-21T14:15:06.334Z"
   },
   {
    "duration": 15,
    "start_time": "2022-11-21T14:15:06.389Z"
   },
   {
    "duration": 15,
    "start_time": "2022-11-21T14:15:06.405Z"
   },
   {
    "duration": 811,
    "start_time": "2022-11-21T14:15:06.422Z"
   },
   {
    "duration": 5,
    "start_time": "2022-11-21T14:15:07.236Z"
   },
   {
    "duration": 7,
    "start_time": "2022-11-21T14:15:07.251Z"
   },
   {
    "duration": 25,
    "start_time": "2022-11-21T14:15:07.260Z"
   },
   {
    "duration": 10,
    "start_time": "2022-11-21T14:15:07.287Z"
   },
   {
    "duration": 29,
    "start_time": "2022-11-21T14:15:07.299Z"
   },
   {
    "duration": 26,
    "start_time": "2022-11-21T14:15:07.330Z"
   },
   {
    "duration": 13,
    "start_time": "2022-11-21T14:15:07.358Z"
   },
   {
    "duration": 21,
    "start_time": "2022-11-21T14:15:07.372Z"
   },
   {
    "duration": 16,
    "start_time": "2022-11-21T14:15:07.394Z"
   },
   {
    "duration": 29,
    "start_time": "2022-11-21T14:15:07.413Z"
   },
   {
    "duration": 17,
    "start_time": "2022-11-21T14:15:07.444Z"
   },
   {
    "duration": 23,
    "start_time": "2022-11-21T14:15:07.463Z"
   },
   {
    "duration": 26,
    "start_time": "2022-11-21T14:15:07.488Z"
   },
   {
    "duration": 11,
    "start_time": "2022-11-21T14:15:07.515Z"
   },
   {
    "duration": 7,
    "start_time": "2022-11-21T14:15:11.660Z"
   },
   {
    "duration": 6,
    "start_time": "2022-11-21T14:16:07.646Z"
   },
   {
    "duration": 12,
    "start_time": "2022-11-21T14:16:38.051Z"
   },
   {
    "duration": 9,
    "start_time": "2022-11-21T14:16:44.178Z"
   },
   {
    "duration": 21,
    "start_time": "2022-11-21T14:19:09.849Z"
   },
   {
    "duration": 146,
    "start_time": "2022-11-21T14:19:36.589Z"
   },
   {
    "duration": 166,
    "start_time": "2022-11-21T14:22:02.345Z"
   },
   {
    "duration": 5,
    "start_time": "2022-11-21T14:22:49.626Z"
   },
   {
    "duration": 166,
    "start_time": "2022-11-21T14:27:31.947Z"
   },
   {
    "duration": 242,
    "start_time": "2022-11-21T14:28:44.448Z"
   },
   {
    "duration": 147,
    "start_time": "2022-11-21T14:29:30.897Z"
   },
   {
    "duration": 72,
    "start_time": "2022-11-21T14:29:57.730Z"
   },
   {
    "duration": 16428,
    "start_time": "2022-11-21T14:30:09.072Z"
   },
   {
    "duration": 174,
    "start_time": "2022-11-21T14:32:20.548Z"
   },
   {
    "duration": 712,
    "start_time": "2022-11-21T14:33:12.755Z"
   },
   {
    "duration": 158,
    "start_time": "2022-11-21T14:33:26.199Z"
   },
   {
    "duration": 153,
    "start_time": "2022-11-21T14:33:47.076Z"
   },
   {
    "duration": 672,
    "start_time": "2022-11-21T14:35:00.641Z"
   },
   {
    "duration": 150,
    "start_time": "2022-11-21T14:36:52.984Z"
   },
   {
    "duration": 151,
    "start_time": "2022-11-21T14:37:41.191Z"
   },
   {
    "duration": 10777,
    "start_time": "2022-11-21T14:40:05.304Z"
   },
   {
    "duration": 188,
    "start_time": "2022-11-21T14:40:37.947Z"
   },
   {
    "duration": 170,
    "start_time": "2022-11-21T14:40:53.515Z"
   },
   {
    "duration": 194,
    "start_time": "2022-11-21T14:40:58.063Z"
   },
   {
    "duration": 151,
    "start_time": "2022-11-21T14:42:14.330Z"
   },
   {
    "duration": 148,
    "start_time": "2022-11-21T14:48:12.184Z"
   },
   {
    "duration": 143,
    "start_time": "2022-11-21T14:50:24.352Z"
   },
   {
    "duration": 19,
    "start_time": "2022-11-21T14:51:25.111Z"
   },
   {
    "duration": 8,
    "start_time": "2022-11-21T14:51:32.541Z"
   },
   {
    "duration": 7,
    "start_time": "2022-11-21T14:51:37.020Z"
   },
   {
    "duration": 55,
    "start_time": "2022-11-21T14:54:57.201Z"
   },
   {
    "duration": 388,
    "start_time": "2022-11-21T14:55:12.780Z"
   },
   {
    "duration": 1357,
    "start_time": "2022-11-21T14:55:19.909Z"
   },
   {
    "duration": 1318,
    "start_time": "2022-11-21T14:55:27.716Z"
   },
   {
    "duration": 1547,
    "start_time": "2022-11-21T14:55:35.374Z"
   },
   {
    "duration": 389,
    "start_time": "2022-11-21T14:56:06.518Z"
   },
   {
    "duration": 72,
    "start_time": "2022-11-21T15:01:42.303Z"
   },
   {
    "duration": 45,
    "start_time": "2022-11-21T15:01:53.755Z"
   },
   {
    "duration": 1438,
    "start_time": "2022-11-21T15:02:46.882Z"
   },
   {
    "duration": 1296,
    "start_time": "2022-11-21T15:03:29.829Z"
   },
   {
    "duration": 1134,
    "start_time": "2022-11-21T15:03:47.777Z"
   },
   {
    "duration": 49,
    "start_time": "2022-11-21T15:03:54.743Z"
   },
   {
    "duration": 370,
    "start_time": "2022-11-21T15:10:25.822Z"
   },
   {
    "duration": 441,
    "start_time": "2022-11-21T15:10:53.950Z"
   },
   {
    "duration": 421,
    "start_time": "2022-11-21T15:11:55.142Z"
   },
   {
    "duration": 3,
    "start_time": "2022-11-21T15:19:54.723Z"
   },
   {
    "duration": 6,
    "start_time": "2022-11-21T15:19:59.839Z"
   },
   {
    "duration": 31,
    "start_time": "2022-11-21T15:20:05.248Z"
   },
   {
    "duration": 5,
    "start_time": "2022-11-21T15:20:22.829Z"
   },
   {
    "duration": 15,
    "start_time": "2022-11-21T15:21:33.621Z"
   },
   {
    "duration": 20,
    "start_time": "2022-11-21T15:21:49.623Z"
   },
   {
    "duration": 21,
    "start_time": "2022-11-21T15:22:35.516Z"
   },
   {
    "duration": 16,
    "start_time": "2022-11-21T15:22:43.544Z"
   },
   {
    "duration": 17,
    "start_time": "2022-11-21T15:23:05.473Z"
   },
   {
    "duration": 313,
    "start_time": "2022-11-21T15:25:24.209Z"
   },
   {
    "duration": 341,
    "start_time": "2022-11-21T15:25:43.717Z"
   },
   {
    "duration": 406,
    "start_time": "2022-11-21T15:25:55.233Z"
   },
   {
    "duration": 333,
    "start_time": "2022-11-21T15:30:05.106Z"
   },
   {
    "duration": 312,
    "start_time": "2022-11-21T15:30:30.255Z"
   },
   {
    "duration": 6,
    "start_time": "2022-11-21T15:32:18.172Z"
   },
   {
    "duration": 140,
    "start_time": "2022-11-21T15:32:32.789Z"
   },
   {
    "duration": 7,
    "start_time": "2022-11-21T15:32:33.945Z"
   },
   {
    "duration": 469,
    "start_time": "2022-11-21T15:32:59.573Z"
   },
   {
    "duration": 57,
    "start_time": "2022-11-21T15:38:49.106Z"
   },
   {
    "duration": 16,
    "start_time": "2022-11-21T15:38:49.166Z"
   },
   {
    "duration": 17,
    "start_time": "2022-11-21T15:38:49.184Z"
   },
   {
    "duration": 929,
    "start_time": "2022-11-21T15:38:49.203Z"
   },
   {
    "duration": 5,
    "start_time": "2022-11-21T15:38:50.135Z"
   },
   {
    "duration": 7,
    "start_time": "2022-11-21T15:38:50.152Z"
   },
   {
    "duration": 24,
    "start_time": "2022-11-21T15:38:50.161Z"
   },
   {
    "duration": 8,
    "start_time": "2022-11-21T15:38:50.187Z"
   },
   {
    "duration": 17,
    "start_time": "2022-11-21T15:38:50.197Z"
   },
   {
    "duration": 39,
    "start_time": "2022-11-21T15:38:50.216Z"
   },
   {
    "duration": 13,
    "start_time": "2022-11-21T15:38:50.257Z"
   },
   {
    "duration": 13,
    "start_time": "2022-11-21T15:38:50.271Z"
   },
   {
    "duration": 4,
    "start_time": "2022-11-21T15:38:50.287Z"
   },
   {
    "duration": 17,
    "start_time": "2022-11-21T15:38:50.295Z"
   },
   {
    "duration": 48,
    "start_time": "2022-11-21T15:38:50.314Z"
   },
   {
    "duration": 14,
    "start_time": "2022-11-21T15:38:50.364Z"
   },
   {
    "duration": 22,
    "start_time": "2022-11-21T15:38:50.380Z"
   },
   {
    "duration": 5,
    "start_time": "2022-11-21T15:38:50.404Z"
   },
   {
    "duration": 21,
    "start_time": "2022-11-21T15:38:50.410Z"
   },
   {
    "duration": 10,
    "start_time": "2022-11-21T15:38:50.433Z"
   },
   {
    "duration": 152,
    "start_time": "2022-11-21T15:38:50.445Z"
   },
   {
    "duration": 3,
    "start_time": "2022-11-21T15:38:50.599Z"
   },
   {
    "duration": 340,
    "start_time": "2022-11-21T15:38:53.015Z"
   },
   {
    "duration": 8,
    "start_time": "2022-11-21T15:40:13.127Z"
   },
   {
    "duration": 403,
    "start_time": "2022-11-21T15:40:13.878Z"
   },
   {
    "duration": 54,
    "start_time": "2022-11-21T15:44:04.878Z"
   },
   {
    "duration": 83,
    "start_time": "2022-11-21T15:44:24.563Z"
   },
   {
    "duration": 11,
    "start_time": "2022-11-21T15:44:30.081Z"
   },
   {
    "duration": 8,
    "start_time": "2022-11-21T15:45:21.265Z"
   },
   {
    "duration": 23,
    "start_time": "2022-11-21T15:45:37.193Z"
   },
   {
    "duration": 6,
    "start_time": "2022-11-21T15:45:49.679Z"
   },
   {
    "duration": 16,
    "start_time": "2022-11-21T15:46:11.231Z"
   },
   {
    "duration": 55,
    "start_time": "2022-11-21T15:46:22.168Z"
   },
   {
    "duration": 15,
    "start_time": "2022-11-21T15:46:22.571Z"
   },
   {
    "duration": 14,
    "start_time": "2022-11-21T15:46:23.123Z"
   },
   {
    "duration": 821,
    "start_time": "2022-11-21T15:46:23.777Z"
   },
   {
    "duration": 6,
    "start_time": "2022-11-21T15:47:24.091Z"
   },
   {
    "duration": 5,
    "start_time": "2022-11-21T15:47:26.503Z"
   },
   {
    "duration": 15,
    "start_time": "2022-11-21T15:47:30.091Z"
   },
   {
    "duration": 9,
    "start_time": "2022-11-21T15:47:32.723Z"
   },
   {
    "duration": 17,
    "start_time": "2022-11-21T15:47:33.865Z"
   },
   {
    "duration": 16,
    "start_time": "2022-11-21T15:47:37.500Z"
   },
   {
    "duration": 14,
    "start_time": "2022-11-21T15:47:41.251Z"
   },
   {
    "duration": 11,
    "start_time": "2022-11-21T15:47:58.364Z"
   },
   {
    "duration": 4,
    "start_time": "2022-11-21T15:48:08.062Z"
   },
   {
    "duration": 15,
    "start_time": "2022-11-21T15:48:10.428Z"
   },
   {
    "duration": 12,
    "start_time": "2022-11-21T15:49:40.322Z"
   },
   {
    "duration": 15,
    "start_time": "2022-11-21T15:49:42.240Z"
   },
   {
    "duration": 11,
    "start_time": "2022-11-21T15:49:42.574Z"
   },
   {
    "duration": 5,
    "start_time": "2022-11-21T15:49:44.320Z"
   },
   {
    "duration": 6,
    "start_time": "2022-11-21T15:49:46.018Z"
   },
   {
    "duration": 7,
    "start_time": "2022-11-21T15:49:54.683Z"
   },
   {
    "duration": 144,
    "start_time": "2022-11-21T15:49:58.446Z"
   },
   {
    "duration": 152,
    "start_time": "2022-11-21T15:50:14.105Z"
   },
   {
    "duration": 368,
    "start_time": "2022-11-21T15:50:38.976Z"
   },
   {
    "duration": 312,
    "start_time": "2022-11-21T15:50:46.370Z"
   },
   {
    "duration": 7,
    "start_time": "2022-11-21T15:51:13.371Z"
   },
   {
    "duration": 292,
    "start_time": "2022-11-21T15:52:07.334Z"
   },
   {
    "duration": 7,
    "start_time": "2022-11-21T15:52:13.928Z"
   },
   {
    "duration": 303,
    "start_time": "2022-11-21T15:52:15.070Z"
   },
   {
    "duration": 51,
    "start_time": "2022-11-21T15:52:25.879Z"
   },
   {
    "duration": 16,
    "start_time": "2022-11-21T15:52:25.932Z"
   },
   {
    "duration": 15,
    "start_time": "2022-11-21T15:52:25.949Z"
   },
   {
    "duration": 740,
    "start_time": "2022-11-21T15:52:25.965Z"
   },
   {
    "duration": 4,
    "start_time": "2022-11-21T15:52:26.708Z"
   },
   {
    "duration": 9,
    "start_time": "2022-11-21T15:52:26.714Z"
   },
   {
    "duration": 27,
    "start_time": "2022-11-21T15:52:26.724Z"
   },
   {
    "duration": 9,
    "start_time": "2022-11-21T15:52:26.752Z"
   },
   {
    "duration": 15,
    "start_time": "2022-11-21T15:52:26.762Z"
   },
   {
    "duration": 13,
    "start_time": "2022-11-21T15:52:26.779Z"
   },
   {
    "duration": 12,
    "start_time": "2022-11-21T15:52:26.794Z"
   },
   {
    "duration": 44,
    "start_time": "2022-11-21T15:52:26.807Z"
   },
   {
    "duration": 3,
    "start_time": "2022-11-21T15:52:26.853Z"
   },
   {
    "duration": 15,
    "start_time": "2022-11-21T15:52:26.858Z"
   },
   {
    "duration": 10,
    "start_time": "2022-11-21T15:52:26.875Z"
   },
   {
    "duration": 5,
    "start_time": "2022-11-21T15:52:26.886Z"
   },
   {
    "duration": 14,
    "start_time": "2022-11-21T15:52:26.892Z"
   },
   {
    "duration": 12,
    "start_time": "2022-11-21T15:52:26.907Z"
   },
   {
    "duration": 140,
    "start_time": "2022-11-21T15:52:29.013Z"
   },
   {
    "duration": 10,
    "start_time": "2022-11-21T15:52:29.848Z"
   },
   {
    "duration": 304,
    "start_time": "2022-11-21T15:52:30.680Z"
   },
   {
    "duration": 352,
    "start_time": "2022-11-21T15:52:51.794Z"
   },
   {
    "duration": 4,
    "start_time": "2022-11-21T15:56:29.305Z"
   },
   {
    "duration": 6,
    "start_time": "2022-11-21T15:56:29.914Z"
   },
   {
    "duration": 10,
    "start_time": "2022-11-21T15:56:30.228Z"
   },
   {
    "duration": 21,
    "start_time": "2022-11-21T15:56:30.560Z"
   },
   {
    "duration": 14,
    "start_time": "2022-11-21T15:56:30.909Z"
   },
   {
    "duration": 16,
    "start_time": "2022-11-21T15:56:31.249Z"
   },
   {
    "duration": 11,
    "start_time": "2022-11-21T15:56:31.574Z"
   },
   {
    "duration": 3,
    "start_time": "2022-11-21T15:56:32.070Z"
   },
   {
    "duration": 16,
    "start_time": "2022-11-21T15:56:32.404Z"
   },
   {
    "duration": 16,
    "start_time": "2022-11-21T16:05:11.229Z"
   },
   {
    "duration": 23,
    "start_time": "2022-11-21T16:06:14.393Z"
   },
   {
    "duration": 72,
    "start_time": "2022-11-21T16:07:46.281Z"
   },
   {
    "duration": 17,
    "start_time": "2022-11-21T16:08:12.342Z"
   },
   {
    "duration": 239,
    "start_time": "2022-11-21T16:08:20.386Z"
   },
   {
    "duration": 153,
    "start_time": "2022-11-21T16:08:28.452Z"
   },
   {
    "duration": 252,
    "start_time": "2022-11-21T16:08:47.494Z"
   },
   {
    "duration": 256,
    "start_time": "2022-11-21T16:09:09.925Z"
   },
   {
    "duration": 237,
    "start_time": "2022-11-21T16:09:23.752Z"
   },
   {
    "duration": 252,
    "start_time": "2022-11-21T16:09:30.389Z"
   },
   {
    "duration": 232,
    "start_time": "2022-11-21T16:09:55.610Z"
   },
   {
    "duration": 230,
    "start_time": "2022-11-21T16:10:02.558Z"
   },
   {
    "duration": 152,
    "start_time": "2022-11-21T16:11:04.159Z"
   },
   {
    "duration": 1263,
    "start_time": "2022-11-21T16:11:52.702Z"
   },
   {
    "duration": 19,
    "start_time": "2022-11-21T16:12:03.045Z"
   },
   {
    "duration": 1290,
    "start_time": "2022-11-21T16:12:11.004Z"
   },
   {
    "duration": 24,
    "start_time": "2022-11-21T16:13:12.526Z"
   },
   {
    "duration": 18,
    "start_time": "2022-11-21T16:13:18.557Z"
   },
   {
    "duration": 16,
    "start_time": "2022-11-21T16:13:22.809Z"
   },
   {
    "duration": 18,
    "start_time": "2022-11-21T16:13:59.280Z"
   },
   {
    "duration": 115,
    "start_time": "2022-11-21T16:14:22.610Z"
   },
   {
    "duration": 248,
    "start_time": "2022-11-21T16:15:11.333Z"
   },
   {
    "duration": 289,
    "start_time": "2022-11-21T16:16:02.041Z"
   },
   {
    "duration": 265,
    "start_time": "2022-11-21T16:16:25.528Z"
   },
   {
    "duration": 5016,
    "start_time": "2022-11-21T16:18:45.765Z"
   },
   {
    "duration": 3610,
    "start_time": "2022-11-21T16:19:07.015Z"
   },
   {
    "duration": 260,
    "start_time": "2022-11-21T16:20:59.185Z"
   },
   {
    "duration": 83,
    "start_time": "2022-11-21T16:21:05.162Z"
   },
   {
    "duration": 270,
    "start_time": "2022-11-21T16:21:14.312Z"
   },
   {
    "duration": 3344,
    "start_time": "2022-11-21T16:21:31.669Z"
   },
   {
    "duration": 72,
    "start_time": "2022-11-21T16:23:06.117Z"
   },
   {
    "duration": 9,
    "start_time": "2022-11-21T16:23:16.924Z"
   },
   {
    "duration": 176,
    "start_time": "2022-11-21T16:26:08.861Z"
   },
   {
    "duration": 216,
    "start_time": "2022-11-21T16:26:34.565Z"
   },
   {
    "duration": 247,
    "start_time": "2022-11-21T16:26:48.541Z"
   },
   {
    "duration": 218,
    "start_time": "2022-11-21T16:27:15.896Z"
   },
   {
    "duration": 56,
    "start_time": "2022-11-21T16:27:31.843Z"
   },
   {
    "duration": 16,
    "start_time": "2022-11-21T16:27:31.901Z"
   },
   {
    "duration": 30,
    "start_time": "2022-11-21T16:27:31.919Z"
   },
   {
    "duration": 818,
    "start_time": "2022-11-21T16:27:31.950Z"
   },
   {
    "duration": 6,
    "start_time": "2022-11-21T16:27:32.772Z"
   },
   {
    "duration": 7,
    "start_time": "2022-11-21T16:27:32.779Z"
   },
   {
    "duration": 17,
    "start_time": "2022-11-21T16:27:32.787Z"
   },
   {
    "duration": 9,
    "start_time": "2022-11-21T16:27:32.805Z"
   },
   {
    "duration": 48,
    "start_time": "2022-11-21T16:27:32.815Z"
   },
   {
    "duration": 19,
    "start_time": "2022-11-21T16:27:32.866Z"
   },
   {
    "duration": 12,
    "start_time": "2022-11-21T16:27:32.887Z"
   },
   {
    "duration": 13,
    "start_time": "2022-11-21T16:27:32.900Z"
   },
   {
    "duration": 7,
    "start_time": "2022-11-21T16:27:32.915Z"
   },
   {
    "duration": 21,
    "start_time": "2022-11-21T16:27:32.953Z"
   },
   {
    "duration": 12,
    "start_time": "2022-11-21T16:27:32.976Z"
   },
   {
    "duration": 9,
    "start_time": "2022-11-21T16:27:32.989Z"
   },
   {
    "duration": 9,
    "start_time": "2022-11-21T16:27:33.000Z"
   },
   {
    "duration": 9,
    "start_time": "2022-11-21T16:27:33.011Z"
   },
   {
    "duration": 217,
    "start_time": "2022-11-21T16:27:34.742Z"
   },
   {
    "duration": 7,
    "start_time": "2022-11-21T16:30:15.900Z"
   },
   {
    "duration": 242,
    "start_time": "2022-11-21T16:35:25.647Z"
   },
   {
    "duration": 5,
    "start_time": "2022-11-21T16:37:30.475Z"
   },
   {
    "duration": 1942,
    "start_time": "2022-11-21T16:38:16.782Z"
   },
   {
    "duration": 1110,
    "start_time": "2022-11-21T16:44:54.351Z"
   },
   {
    "duration": 1224,
    "start_time": "2022-11-21T16:46:19.065Z"
   },
   {
    "duration": 306,
    "start_time": "2022-11-21T16:46:37.796Z"
   },
   {
    "duration": 10,
    "start_time": "2022-11-21T16:52:26.845Z"
   },
   {
    "duration": 314,
    "start_time": "2022-11-21T16:52:30.058Z"
   },
   {
    "duration": 129,
    "start_time": "2022-11-21T16:52:38.475Z"
   },
   {
    "duration": 383,
    "start_time": "2022-11-21T16:52:59.858Z"
   },
   {
    "duration": 374,
    "start_time": "2022-11-21T16:53:53.497Z"
   },
   {
    "duration": 13,
    "start_time": "2022-11-21T16:54:14.609Z"
   },
   {
    "duration": 359,
    "start_time": "2022-11-21T16:54:27.734Z"
   },
   {
    "duration": 360,
    "start_time": "2022-11-21T16:55:08.446Z"
   },
   {
    "duration": 382,
    "start_time": "2022-11-21T16:55:25.789Z"
   },
   {
    "duration": 323,
    "start_time": "2022-11-21T16:55:46.307Z"
   },
   {
    "duration": 39,
    "start_time": "2022-11-21T16:57:23.816Z"
   },
   {
    "duration": 55,
    "start_time": "2022-11-21T16:57:31.471Z"
   },
   {
    "duration": 16,
    "start_time": "2022-11-21T16:57:31.528Z"
   },
   {
    "duration": 22,
    "start_time": "2022-11-21T16:57:31.545Z"
   },
   {
    "duration": 879,
    "start_time": "2022-11-21T16:57:31.571Z"
   },
   {
    "duration": 6,
    "start_time": "2022-11-21T16:57:32.453Z"
   },
   {
    "duration": 25,
    "start_time": "2022-11-21T16:57:32.461Z"
   },
   {
    "duration": 25,
    "start_time": "2022-11-21T16:57:32.488Z"
   },
   {
    "duration": 9,
    "start_time": "2022-11-21T16:57:32.515Z"
   },
   {
    "duration": 18,
    "start_time": "2022-11-21T16:57:32.526Z"
   },
   {
    "duration": 20,
    "start_time": "2022-11-21T16:57:32.550Z"
   },
   {
    "duration": 24,
    "start_time": "2022-11-21T16:57:32.572Z"
   },
   {
    "duration": 13,
    "start_time": "2022-11-21T16:57:32.598Z"
   },
   {
    "duration": 4,
    "start_time": "2022-11-21T16:57:32.612Z"
   },
   {
    "duration": 41,
    "start_time": "2022-11-21T16:57:32.617Z"
   },
   {
    "duration": 18,
    "start_time": "2022-11-21T16:57:32.660Z"
   },
   {
    "duration": 5,
    "start_time": "2022-11-21T16:57:32.680Z"
   },
   {
    "duration": 12,
    "start_time": "2022-11-21T16:57:32.687Z"
   },
   {
    "duration": 8,
    "start_time": "2022-11-21T16:57:32.701Z"
   },
   {
    "duration": 273,
    "start_time": "2022-11-21T16:57:32.711Z"
   },
   {
    "duration": 399,
    "start_time": "2022-11-21T16:57:32.986Z"
   },
   {
    "duration": 5741,
    "start_time": "2022-11-21T16:57:33.387Z"
   },
   {
    "duration": 21,
    "start_time": "2022-11-21T16:57:39.130Z"
   },
   {
    "duration": 9,
    "start_time": "2022-11-21T16:57:39.154Z"
   },
   {
    "duration": 241,
    "start_time": "2022-11-21T16:57:39.164Z"
   },
   {
    "duration": 3556,
    "start_time": "2022-11-21T16:57:39.407Z"
   },
   {
    "duration": 338,
    "start_time": "2022-11-21T16:57:42.966Z"
   },
   {
    "duration": 349,
    "start_time": "2022-11-21T16:57:45.398Z"
   },
   {
    "duration": 40,
    "start_time": "2022-11-21T16:58:17.048Z"
   },
   {
    "duration": 14,
    "start_time": "2022-11-21T16:58:39.041Z"
   },
   {
    "duration": 18,
    "start_time": "2022-11-21T16:59:13.862Z"
   },
   {
    "duration": 250,
    "start_time": "2022-11-21T16:59:48.991Z"
   },
   {
    "duration": 209,
    "start_time": "2022-11-21T17:00:06.013Z"
   },
   {
    "duration": 74,
    "start_time": "2022-11-21T17:00:17.927Z"
   },
   {
    "duration": 210,
    "start_time": "2022-11-21T17:00:21.026Z"
   },
   {
    "duration": 220,
    "start_time": "2022-11-21T17:04:23.695Z"
   },
   {
    "duration": 222,
    "start_time": "2022-11-21T17:04:28.919Z"
   },
   {
    "duration": 275,
    "start_time": "2022-11-21T17:04:33.592Z"
   },
   {
    "duration": 225,
    "start_time": "2022-11-21T17:04:53.532Z"
   },
   {
    "duration": 245,
    "start_time": "2022-11-21T17:04:57.525Z"
   },
   {
    "duration": 216,
    "start_time": "2022-11-21T17:39:55.882Z"
   },
   {
    "duration": 6,
    "start_time": "2022-11-21T17:44:08.338Z"
   },
   {
    "duration": 16,
    "start_time": "2022-11-21T17:44:14.531Z"
   },
   {
    "duration": 75,
    "start_time": "2022-11-21T17:50:43.874Z"
   },
   {
    "duration": 71,
    "start_time": "2022-11-21T17:51:15.488Z"
   },
   {
    "duration": 90,
    "start_time": "2022-11-21T17:51:19.656Z"
   },
   {
    "duration": 32,
    "start_time": "2022-11-21T17:51:28.784Z"
   },
   {
    "duration": 36,
    "start_time": "2022-11-21T17:51:54.958Z"
   },
   {
    "duration": 381,
    "start_time": "2022-11-21T17:52:12.672Z"
   },
   {
    "duration": 1710,
    "start_time": "2022-11-21T17:52:30.574Z"
   },
   {
    "duration": 1590,
    "start_time": "2022-11-21T17:52:56.997Z"
   },
   {
    "duration": 1658,
    "start_time": "2022-11-21T17:53:13.037Z"
   },
   {
    "duration": 1536,
    "start_time": "2022-11-21T17:56:35.359Z"
   },
   {
    "duration": 1639,
    "start_time": "2022-11-21T17:56:50.762Z"
   },
   {
    "duration": 183,
    "start_time": "2022-11-21T18:01:14.817Z"
   },
   {
    "duration": 170,
    "start_time": "2022-11-21T18:01:42.799Z"
   },
   {
    "duration": 208,
    "start_time": "2022-11-21T18:01:49.255Z"
   },
   {
    "duration": 229,
    "start_time": "2022-11-21T18:01:58.037Z"
   },
   {
    "duration": 199,
    "start_time": "2022-11-21T18:02:03.064Z"
   },
   {
    "duration": 216,
    "start_time": "2022-11-21T18:02:08.025Z"
   },
   {
    "duration": 231,
    "start_time": "2022-11-21T18:05:28.420Z"
   },
   {
    "duration": 18,
    "start_time": "2022-11-21T18:14:22.880Z"
   },
   {
    "duration": 289,
    "start_time": "2022-11-21T18:15:30.955Z"
   },
   {
    "duration": 25,
    "start_time": "2022-11-21T18:16:24.142Z"
   },
   {
    "duration": 255,
    "start_time": "2022-11-21T18:16:33.584Z"
   },
   {
    "duration": 392,
    "start_time": "2022-11-21T18:16:52.287Z"
   },
   {
    "duration": 499,
    "start_time": "2022-11-21T18:17:45.402Z"
   },
   {
    "duration": 465,
    "start_time": "2022-11-21T18:17:52.451Z"
   },
   {
    "duration": 447,
    "start_time": "2022-11-21T18:21:19.658Z"
   },
   {
    "duration": 477,
    "start_time": "2022-11-21T18:21:26.686Z"
   },
   {
    "duration": 1509,
    "start_time": "2022-11-21T18:25:07.135Z"
   },
   {
    "duration": 471,
    "start_time": "2022-11-21T18:25:22.619Z"
   },
   {
    "duration": 466,
    "start_time": "2022-11-21T18:30:44.766Z"
   },
   {
    "duration": 427,
    "start_time": "2022-11-21T18:39:56.697Z"
   },
   {
    "duration": 473,
    "start_time": "2022-11-21T18:42:02.554Z"
   },
   {
    "duration": 444,
    "start_time": "2022-11-21T18:42:03.545Z"
   },
   {
    "duration": 453,
    "start_time": "2022-11-21T18:42:04.277Z"
   },
   {
    "duration": 1296,
    "start_time": "2022-11-21T19:11:08.784Z"
   },
   {
    "duration": 10,
    "start_time": "2022-11-21T19:11:15.368Z"
   },
   {
    "duration": 58,
    "start_time": "2022-11-21T19:11:25.631Z"
   },
   {
    "duration": 35,
    "start_time": "2022-11-21T19:11:36.944Z"
   },
   {
    "duration": 29,
    "start_time": "2022-11-21T19:12:28.542Z"
   },
   {
    "duration": 55,
    "start_time": "2022-11-21T19:12:40.036Z"
   },
   {
    "duration": 14,
    "start_time": "2022-11-21T19:12:40.093Z"
   },
   {
    "duration": 14,
    "start_time": "2022-11-21T19:12:40.108Z"
   },
   {
    "duration": 842,
    "start_time": "2022-11-21T19:12:40.125Z"
   },
   {
    "duration": 7,
    "start_time": "2022-11-21T19:12:40.969Z"
   },
   {
    "duration": 7,
    "start_time": "2022-11-21T19:12:40.978Z"
   },
   {
    "duration": 19,
    "start_time": "2022-11-21T19:12:40.987Z"
   },
   {
    "duration": 9,
    "start_time": "2022-11-21T19:12:41.007Z"
   },
   {
    "duration": 49,
    "start_time": "2022-11-21T19:12:41.017Z"
   },
   {
    "duration": 23,
    "start_time": "2022-11-21T19:12:41.068Z"
   },
   {
    "duration": 20,
    "start_time": "2022-11-21T19:12:41.093Z"
   },
   {
    "duration": 14,
    "start_time": "2022-11-21T19:12:41.114Z"
   },
   {
    "duration": 5,
    "start_time": "2022-11-21T19:12:52.773Z"
   },
   {
    "duration": 63,
    "start_time": "2022-11-21T19:15:03.385Z"
   },
   {
    "duration": 20,
    "start_time": "2022-11-21T19:15:04.140Z"
   },
   {
    "duration": 14,
    "start_time": "2022-11-21T19:15:08.397Z"
   },
   {
    "duration": 15,
    "start_time": "2022-11-21T19:15:12.771Z"
   },
   {
    "duration": 1385,
    "start_time": "2022-11-21T19:15:38.976Z"
   },
   {
    "duration": 51,
    "start_time": "2022-11-21T19:15:45.295Z"
   },
   {
    "duration": 22,
    "start_time": "2022-11-21T19:15:45.349Z"
   },
   {
    "duration": 31,
    "start_time": "2022-11-21T19:15:45.373Z"
   },
   {
    "duration": 920,
    "start_time": "2022-11-21T19:15:45.406Z"
   },
   {
    "duration": 6,
    "start_time": "2022-11-21T19:15:46.329Z"
   },
   {
    "duration": 18,
    "start_time": "2022-11-21T19:15:46.337Z"
   },
   {
    "duration": 12,
    "start_time": "2022-11-21T19:15:47.863Z"
   },
   {
    "duration": 15,
    "start_time": "2022-11-21T19:15:49.342Z"
   },
   {
    "duration": 20,
    "start_time": "2022-11-21T19:15:52.862Z"
   },
   {
    "duration": 23,
    "start_time": "2022-11-21T19:16:22.855Z"
   },
   {
    "duration": 11,
    "start_time": "2022-11-21T19:16:25.769Z"
   },
   {
    "duration": 16,
    "start_time": "2022-11-21T19:16:26.291Z"
   },
   {
    "duration": 17,
    "start_time": "2022-11-21T19:16:26.707Z"
   },
   {
    "duration": 8,
    "start_time": "2022-11-21T19:16:28.057Z"
   },
   {
    "duration": 9,
    "start_time": "2022-11-21T19:17:09.889Z"
   },
   {
    "duration": 6,
    "start_time": "2022-11-21T19:17:20.478Z"
   },
   {
    "duration": 15,
    "start_time": "2022-11-21T19:17:28.196Z"
   },
   {
    "duration": 6,
    "start_time": "2022-11-21T19:17:32.631Z"
   },
   {
    "duration": 55,
    "start_time": "2022-11-21T19:18:07.905Z"
   },
   {
    "duration": 16,
    "start_time": "2022-11-21T19:18:07.962Z"
   },
   {
    "duration": 16,
    "start_time": "2022-11-21T19:18:07.980Z"
   },
   {
    "duration": 821,
    "start_time": "2022-11-21T19:18:07.998Z"
   },
   {
    "duration": 4,
    "start_time": "2022-11-21T19:18:08.822Z"
   },
   {
    "duration": 23,
    "start_time": "2022-11-21T19:18:08.828Z"
   },
   {
    "duration": 15,
    "start_time": "2022-11-21T19:18:08.853Z"
   },
   {
    "duration": 11,
    "start_time": "2022-11-21T19:18:08.872Z"
   },
   {
    "duration": 20,
    "start_time": "2022-11-21T19:18:08.885Z"
   },
   {
    "duration": 48,
    "start_time": "2022-11-21T19:18:08.907Z"
   },
   {
    "duration": 18,
    "start_time": "2022-11-21T19:18:08.958Z"
   },
   {
    "duration": 16,
    "start_time": "2022-11-21T19:18:08.979Z"
   },
   {
    "duration": 4,
    "start_time": "2022-11-21T19:18:08.997Z"
   },
   {
    "duration": 18,
    "start_time": "2022-11-21T19:18:09.004Z"
   },
   {
    "duration": 43,
    "start_time": "2022-11-21T19:18:09.024Z"
   },
   {
    "duration": 10,
    "start_time": "2022-11-21T19:18:09.070Z"
   },
   {
    "duration": 8,
    "start_time": "2022-11-21T19:18:09.081Z"
   },
   {
    "duration": 7,
    "start_time": "2022-11-21T19:18:09.090Z"
   },
   {
    "duration": 256,
    "start_time": "2022-11-21T19:18:09.098Z"
   },
   {
    "duration": 413,
    "start_time": "2022-11-21T19:18:09.356Z"
   },
   {
    "duration": 7195,
    "start_time": "2022-11-21T19:18:09.771Z"
   },
   {
    "duration": 10,
    "start_time": "2022-11-21T19:18:16.969Z"
   },
   {
    "duration": 9,
    "start_time": "2022-11-21T19:18:16.981Z"
   },
   {
    "duration": 248,
    "start_time": "2022-11-21T19:18:16.992Z"
   },
   {
    "duration": 2034,
    "start_time": "2022-11-21T19:18:17.243Z"
   },
   {
    "duration": 341,
    "start_time": "2022-11-21T19:18:19.278Z"
   },
   {
    "duration": 298,
    "start_time": "2022-11-21T19:18:19.621Z"
   },
   {
    "duration": 1692,
    "start_time": "2022-11-21T19:18:19.922Z"
   },
   {
    "duration": 230,
    "start_time": "2022-11-21T19:18:21.615Z"
   },
   {
    "duration": 261,
    "start_time": "2022-11-21T19:18:21.847Z"
   },
   {
    "duration": 611,
    "start_time": "2022-11-21T19:20:26.920Z"
   },
   {
    "duration": 672,
    "start_time": "2022-11-21T19:21:56.212Z"
   },
   {
    "duration": 614,
    "start_time": "2022-11-21T19:22:54.682Z"
   },
   {
    "duration": 739,
    "start_time": "2022-11-21T19:27:09.816Z"
   },
   {
    "duration": 815,
    "start_time": "2022-11-21T19:27:29.612Z"
   },
   {
    "duration": 622,
    "start_time": "2022-11-21T19:27:43.552Z"
   },
   {
    "duration": 782,
    "start_time": "2022-11-21T19:29:10.486Z"
   },
   {
    "duration": 6,
    "start_time": "2022-11-21T19:34:37.496Z"
   },
   {
    "duration": 21,
    "start_time": "2022-11-21T19:59:54.647Z"
   },
   {
    "duration": 9,
    "start_time": "2022-11-21T20:00:23.477Z"
   },
   {
    "duration": 8,
    "start_time": "2022-11-21T20:00:47.981Z"
   },
   {
    "duration": 18,
    "start_time": "2022-11-21T20:05:40.978Z"
   },
   {
    "duration": 12,
    "start_time": "2022-11-21T20:06:08.355Z"
   },
   {
    "duration": 5,
    "start_time": "2022-11-21T20:08:31.389Z"
   },
   {
    "duration": 72,
    "start_time": "2022-11-21T20:09:08.031Z"
   },
   {
    "duration": 4,
    "start_time": "2022-11-21T20:09:50.226Z"
   },
   {
    "duration": 54,
    "start_time": "2022-11-21T20:19:11.866Z"
   },
   {
    "duration": 14,
    "start_time": "2022-11-21T20:19:11.922Z"
   },
   {
    "duration": 18,
    "start_time": "2022-11-21T20:19:11.937Z"
   },
   {
    "duration": 857,
    "start_time": "2022-11-21T20:19:11.956Z"
   },
   {
    "duration": 5,
    "start_time": "2022-11-21T20:19:12.817Z"
   },
   {
    "duration": 7,
    "start_time": "2022-11-21T20:19:12.824Z"
   },
   {
    "duration": 31,
    "start_time": "2022-11-21T20:19:12.832Z"
   },
   {
    "duration": 30,
    "start_time": "2022-11-21T20:19:12.866Z"
   },
   {
    "duration": 21,
    "start_time": "2022-11-21T20:19:12.898Z"
   },
   {
    "duration": 19,
    "start_time": "2022-11-21T20:19:12.921Z"
   },
   {
    "duration": 20,
    "start_time": "2022-11-21T20:19:12.956Z"
   },
   {
    "duration": 12,
    "start_time": "2022-11-21T20:19:12.978Z"
   },
   {
    "duration": 4,
    "start_time": "2022-11-21T20:19:12.992Z"
   },
   {
    "duration": 19,
    "start_time": "2022-11-21T20:19:12.999Z"
   },
   {
    "duration": 33,
    "start_time": "2022-11-21T20:19:13.020Z"
   },
   {
    "duration": 6,
    "start_time": "2022-11-21T20:19:13.055Z"
   },
   {
    "duration": 22,
    "start_time": "2022-11-21T20:19:13.063Z"
   },
   {
    "duration": 11,
    "start_time": "2022-11-21T20:19:13.087Z"
   },
   {
    "duration": 230,
    "start_time": "2022-11-21T20:19:13.100Z"
   },
   {
    "duration": 366,
    "start_time": "2022-11-21T20:19:13.332Z"
   },
   {
    "duration": 5270,
    "start_time": "2022-11-21T20:19:13.700Z"
   },
   {
    "duration": 7,
    "start_time": "2022-11-21T20:19:18.975Z"
   },
   {
    "duration": 11,
    "start_time": "2022-11-21T20:19:18.984Z"
   },
   {
    "duration": 289,
    "start_time": "2022-11-21T20:19:18.996Z"
   },
   {
    "duration": 1958,
    "start_time": "2022-11-21T20:19:19.286Z"
   },
   {
    "duration": 318,
    "start_time": "2022-11-21T20:19:21.251Z"
   },
   {
    "duration": 256,
    "start_time": "2022-11-21T20:19:21.571Z"
   },
   {
    "duration": 1666,
    "start_time": "2022-11-21T20:19:21.829Z"
   },
   {
    "duration": 230,
    "start_time": "2022-11-21T20:19:23.497Z"
   },
   {
    "duration": 289,
    "start_time": "2022-11-21T20:19:23.730Z"
   },
   {
    "duration": 4,
    "start_time": "2022-11-21T20:19:24.021Z"
   },
   {
    "duration": 797,
    "start_time": "2022-11-21T20:19:24.027Z"
   },
   {
    "duration": 754,
    "start_time": "2022-11-21T20:19:24.825Z"
   },
   {
    "duration": 550,
    "start_time": "2022-11-21T20:19:25.580Z"
   },
   {
    "duration": 8,
    "start_time": "2022-11-21T20:19:26.132Z"
   },
   {
    "duration": 14,
    "start_time": "2022-11-21T20:19:26.153Z"
   },
   {
    "duration": 11,
    "start_time": "2022-11-21T20:19:26.171Z"
   },
   {
    "duration": 5,
    "start_time": "2022-11-21T20:19:26.184Z"
   },
   {
    "duration": 1630,
    "start_time": "2022-11-22T09:47:02.832Z"
   },
   {
    "duration": 20,
    "start_time": "2022-11-22T09:47:04.465Z"
   },
   {
    "duration": 22,
    "start_time": "2022-11-22T09:47:04.486Z"
   },
   {
    "duration": 1115,
    "start_time": "2022-11-22T09:47:04.511Z"
   },
   {
    "duration": 6,
    "start_time": "2022-11-22T09:47:05.630Z"
   },
   {
    "duration": 28,
    "start_time": "2022-11-22T09:47:05.638Z"
   },
   {
    "duration": 12,
    "start_time": "2022-11-22T09:47:05.669Z"
   },
   {
    "duration": 12,
    "start_time": "2022-11-22T09:47:05.684Z"
   },
   {
    "duration": 90,
    "start_time": "2022-11-22T09:47:05.698Z"
   },
   {
    "duration": 38,
    "start_time": "2022-11-22T09:47:05.790Z"
   },
   {
    "duration": 18,
    "start_time": "2022-11-22T09:47:05.830Z"
   },
   {
    "duration": 54,
    "start_time": "2022-11-22T09:47:05.850Z"
   },
   {
    "duration": 6,
    "start_time": "2022-11-22T09:47:05.906Z"
   },
   {
    "duration": 70,
    "start_time": "2022-11-22T09:47:05.916Z"
   },
   {
    "duration": 20,
    "start_time": "2022-11-22T09:47:05.988Z"
   },
   {
    "duration": 15,
    "start_time": "2022-11-22T09:47:06.010Z"
   },
   {
    "duration": 21,
    "start_time": "2022-11-22T09:47:06.028Z"
   },
   {
    "duration": 17,
    "start_time": "2022-11-22T09:47:06.051Z"
   },
   {
    "duration": 312,
    "start_time": "2022-11-22T09:47:06.070Z"
   },
   {
    "duration": 442,
    "start_time": "2022-11-22T09:47:06.384Z"
   },
   {
    "duration": 6363,
    "start_time": "2022-11-22T09:47:06.828Z"
   },
   {
    "duration": 6,
    "start_time": "2022-11-22T09:47:13.194Z"
   },
   {
    "duration": 26,
    "start_time": "2022-11-22T09:47:13.202Z"
   },
   {
    "duration": 290,
    "start_time": "2022-11-22T09:47:13.231Z"
   },
   {
    "duration": 2567,
    "start_time": "2022-11-22T09:47:13.526Z"
   },
   {
    "duration": 357,
    "start_time": "2022-11-22T09:47:16.095Z"
   },
   {
    "duration": 285,
    "start_time": "2022-11-22T09:47:16.454Z"
   },
   {
    "duration": 181,
    "start_time": "2022-11-22T09:47:16.741Z"
   },
   {
    "duration": 0,
    "start_time": "2022-11-22T09:47:16.924Z"
   },
   {
    "duration": 0,
    "start_time": "2022-11-22T09:47:16.925Z"
   },
   {
    "duration": 0,
    "start_time": "2022-11-22T09:47:16.927Z"
   },
   {
    "duration": 0,
    "start_time": "2022-11-22T09:47:16.928Z"
   },
   {
    "duration": 0,
    "start_time": "2022-11-22T09:47:16.932Z"
   },
   {
    "duration": 0,
    "start_time": "2022-11-22T09:47:16.933Z"
   },
   {
    "duration": 0,
    "start_time": "2022-11-22T09:47:16.934Z"
   },
   {
    "duration": 0,
    "start_time": "2022-11-22T09:47:16.935Z"
   },
   {
    "duration": 0,
    "start_time": "2022-11-22T09:47:16.937Z"
   },
   {
    "duration": 0,
    "start_time": "2022-11-22T09:47:16.938Z"
   },
   {
    "duration": 18,
    "start_time": "2022-11-22T10:06:46.039Z"
   },
   {
    "duration": 180,
    "start_time": "2022-11-22T10:32:19.088Z"
   },
   {
    "duration": 205,
    "start_time": "2022-11-22T10:33:01.755Z"
   },
   {
    "duration": 245,
    "start_time": "2022-11-22T10:33:11.635Z"
   },
   {
    "duration": 4,
    "start_time": "2022-11-22T10:33:11.882Z"
   },
   {
    "duration": 649,
    "start_time": "2022-11-22T10:33:11.887Z"
   },
   {
    "duration": 749,
    "start_time": "2022-11-22T10:33:12.538Z"
   },
   {
    "duration": 562,
    "start_time": "2022-11-22T10:33:13.289Z"
   },
   {
    "duration": 8,
    "start_time": "2022-11-22T10:33:13.853Z"
   },
   {
    "duration": 9,
    "start_time": "2022-11-22T10:33:13.863Z"
   },
   {
    "duration": 19,
    "start_time": "2022-11-22T10:33:13.874Z"
   },
   {
    "duration": 13,
    "start_time": "2022-11-22T10:33:13.895Z"
   },
   {
    "duration": 1264,
    "start_time": "2022-11-22T11:15:42.028Z"
   },
   {
    "duration": 3,
    "start_time": "2022-11-22T11:15:45.242Z"
   },
   {
    "duration": 446,
    "start_time": "2022-11-22T11:15:45.460Z"
   },
   {
    "duration": 1397,
    "start_time": "2022-11-22T11:20:41.676Z"
   },
   {
    "duration": 3,
    "start_time": "2022-11-22T11:20:44.946Z"
   },
   {
    "duration": 50,
    "start_time": "2022-11-22T11:20:44.951Z"
   },
   {
    "duration": 14,
    "start_time": "2022-11-22T11:20:45.002Z"
   },
   {
    "duration": 22,
    "start_time": "2022-11-22T11:20:45.018Z"
   },
   {
    "duration": 726,
    "start_time": "2022-11-22T11:20:45.041Z"
   },
   {
    "duration": 4,
    "start_time": "2022-11-22T11:20:45.769Z"
   },
   {
    "duration": 7,
    "start_time": "2022-11-22T11:20:45.775Z"
   },
   {
    "duration": 9,
    "start_time": "2022-11-22T11:20:45.783Z"
   },
   {
    "duration": 20,
    "start_time": "2022-11-22T11:20:45.793Z"
   },
   {
    "duration": 48,
    "start_time": "2022-11-22T11:20:45.816Z"
   },
   {
    "duration": 14,
    "start_time": "2022-11-22T11:20:45.866Z"
   },
   {
    "duration": 10,
    "start_time": "2022-11-22T11:20:45.882Z"
   },
   {
    "duration": 11,
    "start_time": "2022-11-22T11:20:45.913Z"
   },
   {
    "duration": 4,
    "start_time": "2022-11-22T11:20:45.926Z"
   },
   {
    "duration": 15,
    "start_time": "2022-11-22T11:20:45.931Z"
   },
   {
    "duration": 13,
    "start_time": "2022-11-22T11:20:45.947Z"
   },
   {
    "duration": 9,
    "start_time": "2022-11-22T11:20:45.961Z"
   },
   {
    "duration": 16,
    "start_time": "2022-11-22T11:20:45.972Z"
   },
   {
    "duration": 4,
    "start_time": "2022-11-22T11:20:47.110Z"
   },
   {
    "duration": 5,
    "start_time": "2022-11-22T11:20:52.814Z"
   },
   {
    "duration": 5,
    "start_time": "2022-11-22T11:20:53.526Z"
   },
   {
    "duration": 177,
    "start_time": "2022-11-22T11:22:52.380Z"
   },
   {
    "duration": 211,
    "start_time": "2022-11-22T11:23:48.948Z"
   },
   {
    "duration": 200,
    "start_time": "2022-11-22T11:23:55.350Z"
   },
   {
    "duration": 174,
    "start_time": "2022-11-22T11:24:01.215Z"
   },
   {
    "duration": 3,
    "start_time": "2022-11-22T11:26:30.577Z"
   },
   {
    "duration": 62,
    "start_time": "2022-11-22T11:26:30.582Z"
   },
   {
    "duration": 13,
    "start_time": "2022-11-22T11:26:30.646Z"
   },
   {
    "duration": 18,
    "start_time": "2022-11-22T11:26:30.661Z"
   },
   {
    "duration": 810,
    "start_time": "2022-11-22T11:26:30.681Z"
   },
   {
    "duration": 4,
    "start_time": "2022-11-22T11:26:31.493Z"
   },
   {
    "duration": 16,
    "start_time": "2022-11-22T11:26:31.498Z"
   },
   {
    "duration": 10,
    "start_time": "2022-11-22T11:26:31.515Z"
   },
   {
    "duration": 8,
    "start_time": "2022-11-22T11:26:31.526Z"
   },
   {
    "duration": 15,
    "start_time": "2022-11-22T11:26:31.535Z"
   },
   {
    "duration": 15,
    "start_time": "2022-11-22T11:26:31.552Z"
   },
   {
    "duration": 11,
    "start_time": "2022-11-22T11:26:31.569Z"
   },
   {
    "duration": 35,
    "start_time": "2022-11-22T11:26:31.582Z"
   },
   {
    "duration": 4,
    "start_time": "2022-11-22T11:26:31.618Z"
   },
   {
    "duration": 14,
    "start_time": "2022-11-22T11:26:31.623Z"
   },
   {
    "duration": 12,
    "start_time": "2022-11-22T11:26:31.639Z"
   },
   {
    "duration": 8,
    "start_time": "2022-11-22T11:26:31.652Z"
   },
   {
    "duration": 5,
    "start_time": "2022-11-22T11:26:31.661Z"
   },
   {
    "duration": 6,
    "start_time": "2022-11-22T11:26:31.667Z"
   },
   {
    "duration": 39,
    "start_time": "2022-11-22T11:26:31.675Z"
   },
   {
    "duration": 180,
    "start_time": "2022-11-22T11:26:31.715Z"
   },
   {
    "duration": 305,
    "start_time": "2022-11-22T11:26:31.896Z"
   },
   {
    "duration": 4545,
    "start_time": "2022-11-22T11:26:32.203Z"
   },
   {
    "duration": 6,
    "start_time": "2022-11-22T11:26:36.750Z"
   },
   {
    "duration": 8,
    "start_time": "2022-11-22T11:26:36.757Z"
   },
   {
    "duration": 187,
    "start_time": "2022-11-22T11:26:36.766Z"
   },
   {
    "duration": 1100,
    "start_time": "2022-11-22T11:26:36.955Z"
   },
   {
    "duration": 222,
    "start_time": "2022-11-22T11:26:38.057Z"
   },
   {
    "duration": 244,
    "start_time": "2022-11-22T11:26:54.560Z"
   },
   {
    "duration": 197,
    "start_time": "2022-11-22T11:26:56.029Z"
   },
   {
    "duration": 84,
    "start_time": "2022-11-22T11:28:22.503Z"
   },
   {
    "duration": 15,
    "start_time": "2022-11-22T11:28:39.385Z"
   },
   {
    "duration": 1473,
    "start_time": "2022-11-22T11:29:37.857Z"
   },
   {
    "duration": 167,
    "start_time": "2022-11-22T11:33:32.223Z"
   },
   {
    "duration": 212,
    "start_time": "2022-11-22T11:34:45.494Z"
   },
   {
    "duration": 230,
    "start_time": "2022-11-22T11:35:40.380Z"
   },
   {
    "duration": 208,
    "start_time": "2022-11-22T11:35:53.392Z"
   },
   {
    "duration": 170,
    "start_time": "2022-11-22T11:36:13.294Z"
   },
   {
    "duration": 205,
    "start_time": "2022-11-22T11:36:25.849Z"
   },
   {
    "duration": 215,
    "start_time": "2022-11-22T11:36:33.279Z"
   },
   {
    "duration": 319,
    "start_time": "2022-11-22T11:38:07.025Z"
   },
   {
    "duration": 5,
    "start_time": "2022-11-22T11:38:35.595Z"
   },
   {
    "duration": 104,
    "start_time": "2022-11-22T11:39:02.480Z"
   },
   {
    "duration": 4,
    "start_time": "2022-11-22T11:39:32.326Z"
   },
   {
    "duration": 59,
    "start_time": "2022-11-22T11:39:32.332Z"
   },
   {
    "duration": 17,
    "start_time": "2022-11-22T11:39:32.393Z"
   },
   {
    "duration": 26,
    "start_time": "2022-11-22T11:39:32.412Z"
   },
   {
    "duration": 689,
    "start_time": "2022-11-22T11:39:32.440Z"
   },
   {
    "duration": 7,
    "start_time": "2022-11-22T11:39:33.131Z"
   },
   {
    "duration": 9,
    "start_time": "2022-11-22T11:39:33.140Z"
   },
   {
    "duration": 13,
    "start_time": "2022-11-22T11:39:33.151Z"
   },
   {
    "duration": 11,
    "start_time": "2022-11-22T11:39:33.166Z"
   },
   {
    "duration": 37,
    "start_time": "2022-11-22T11:39:33.178Z"
   },
   {
    "duration": 13,
    "start_time": "2022-11-22T11:39:33.217Z"
   },
   {
    "duration": 15,
    "start_time": "2022-11-22T11:39:33.232Z"
   },
   {
    "duration": 11,
    "start_time": "2022-11-22T11:39:33.248Z"
   },
   {
    "duration": 4,
    "start_time": "2022-11-22T11:39:33.262Z"
   },
   {
    "duration": 15,
    "start_time": "2022-11-22T11:39:33.268Z"
   },
   {
    "duration": 14,
    "start_time": "2022-11-22T11:39:33.313Z"
   },
   {
    "duration": 10,
    "start_time": "2022-11-22T11:39:33.329Z"
   },
   {
    "duration": 8,
    "start_time": "2022-11-22T11:39:33.341Z"
   },
   {
    "duration": 8,
    "start_time": "2022-11-22T11:39:33.350Z"
   },
   {
    "duration": 6,
    "start_time": "2022-11-22T11:39:33.360Z"
   },
   {
    "duration": 211,
    "start_time": "2022-11-22T11:39:33.368Z"
   },
   {
    "duration": 311,
    "start_time": "2022-11-22T11:39:33.581Z"
   },
   {
    "duration": 4653,
    "start_time": "2022-11-22T11:39:33.894Z"
   },
   {
    "duration": 7,
    "start_time": "2022-11-22T11:39:38.549Z"
   },
   {
    "duration": 7,
    "start_time": "2022-11-22T11:39:38.557Z"
   },
   {
    "duration": 195,
    "start_time": "2022-11-22T11:39:38.566Z"
   },
   {
    "duration": 1110,
    "start_time": "2022-11-22T11:39:38.763Z"
   },
   {
    "duration": 234,
    "start_time": "2022-11-22T11:39:39.875Z"
   },
   {
    "duration": 210,
    "start_time": "2022-11-22T11:39:40.112Z"
   },
   {
    "duration": 1519,
    "start_time": "2022-11-22T11:39:40.324Z"
   },
   {
    "duration": 177,
    "start_time": "2022-11-22T11:39:41.845Z"
   },
   {
    "duration": 200,
    "start_time": "2022-11-22T11:39:42.023Z"
   },
   {
    "duration": 4,
    "start_time": "2022-11-22T11:39:42.224Z"
   },
   {
    "duration": 514,
    "start_time": "2022-11-22T11:39:42.229Z"
   },
   {
    "duration": 594,
    "start_time": "2022-11-22T11:39:42.745Z"
   },
   {
    "duration": 422,
    "start_time": "2022-11-22T11:39:43.341Z"
   },
   {
    "duration": 3,
    "start_time": "2022-11-22T11:50:13.792Z"
   },
   {
    "duration": 56,
    "start_time": "2022-11-22T11:50:13.797Z"
   },
   {
    "duration": 14,
    "start_time": "2022-11-22T11:50:13.854Z"
   },
   {
    "duration": 12,
    "start_time": "2022-11-22T11:50:13.870Z"
   },
   {
    "duration": 838,
    "start_time": "2022-11-22T11:50:13.885Z"
   },
   {
    "duration": 5,
    "start_time": "2022-11-22T11:50:14.725Z"
   },
   {
    "duration": 16,
    "start_time": "2022-11-22T11:50:14.732Z"
   },
   {
    "duration": 8,
    "start_time": "2022-11-22T11:50:14.749Z"
   },
   {
    "duration": 8,
    "start_time": "2022-11-22T11:50:14.759Z"
   },
   {
    "duration": 14,
    "start_time": "2022-11-22T11:50:14.769Z"
   },
   {
    "duration": 34,
    "start_time": "2022-11-22T11:50:14.785Z"
   },
   {
    "duration": 11,
    "start_time": "2022-11-22T11:50:14.821Z"
   },
   {
    "duration": 20,
    "start_time": "2022-11-22T11:50:14.833Z"
   },
   {
    "duration": 5,
    "start_time": "2022-11-22T11:50:14.856Z"
   },
   {
    "duration": 15,
    "start_time": "2022-11-22T11:50:14.863Z"
   },
   {
    "duration": 37,
    "start_time": "2022-11-22T11:50:14.880Z"
   },
   {
    "duration": 11,
    "start_time": "2022-11-22T11:50:14.918Z"
   },
   {
    "duration": 11,
    "start_time": "2022-11-22T11:50:14.931Z"
   },
   {
    "duration": 24,
    "start_time": "2022-11-22T11:50:14.944Z"
   },
   {
    "duration": 7,
    "start_time": "2022-11-22T11:50:14.970Z"
   },
   {
    "duration": 191,
    "start_time": "2022-11-22T11:50:14.979Z"
   },
   {
    "duration": 342,
    "start_time": "2022-11-22T11:50:15.172Z"
   },
   {
    "duration": 4475,
    "start_time": "2022-11-22T11:50:15.516Z"
   },
   {
    "duration": 6,
    "start_time": "2022-11-22T11:50:19.992Z"
   },
   {
    "duration": 17,
    "start_time": "2022-11-22T11:50:20.000Z"
   },
   {
    "duration": 174,
    "start_time": "2022-11-22T11:50:20.018Z"
   },
   {
    "duration": 1366,
    "start_time": "2022-11-22T11:50:20.193Z"
   },
   {
    "duration": 220,
    "start_time": "2022-11-22T11:50:21.561Z"
   },
   {
    "duration": 187,
    "start_time": "2022-11-22T11:50:21.782Z"
   },
   {
    "duration": 1324,
    "start_time": "2022-11-22T11:50:21.971Z"
   },
   {
    "duration": 176,
    "start_time": "2022-11-22T11:50:23.297Z"
   },
   {
    "duration": 211,
    "start_time": "2022-11-22T11:50:23.475Z"
   },
   {
    "duration": 4,
    "start_time": "2022-11-22T11:50:23.688Z"
   },
   {
    "duration": 685,
    "start_time": "2022-11-22T11:50:23.703Z"
   },
   {
    "duration": 634,
    "start_time": "2022-11-22T11:50:24.390Z"
   },
   {
    "duration": 461,
    "start_time": "2022-11-22T11:50:25.026Z"
   },
   {
    "duration": 7,
    "start_time": "2022-11-22T11:50:25.489Z"
   },
   {
    "duration": 16,
    "start_time": "2022-11-22T11:50:25.497Z"
   },
   {
    "duration": 15,
    "start_time": "2022-11-22T11:50:25.514Z"
   },
   {
    "duration": 14,
    "start_time": "2022-11-22T11:50:25.530Z"
   },
   {
    "duration": 1342,
    "start_time": "2022-11-23T05:38:46.482Z"
   },
   {
    "duration": 197,
    "start_time": "2022-11-23T05:38:47.826Z"
   },
   {
    "duration": 15,
    "start_time": "2022-11-23T05:38:48.024Z"
   },
   {
    "duration": 16,
    "start_time": "2022-11-23T05:38:48.040Z"
   },
   {
    "duration": 777,
    "start_time": "2022-11-23T05:38:48.058Z"
   },
   {
    "duration": 4,
    "start_time": "2022-11-23T05:38:48.837Z"
   },
   {
    "duration": 10,
    "start_time": "2022-11-23T05:38:48.842Z"
   },
   {
    "duration": 8,
    "start_time": "2022-11-23T05:38:48.853Z"
   },
   {
    "duration": 9,
    "start_time": "2022-11-23T05:38:48.862Z"
   },
   {
    "duration": 73,
    "start_time": "2022-11-23T05:38:48.873Z"
   },
   {
    "duration": 13,
    "start_time": "2022-11-23T05:38:48.948Z"
   },
   {
    "duration": 13,
    "start_time": "2022-11-23T05:38:48.962Z"
   },
   {
    "duration": 32,
    "start_time": "2022-11-23T05:38:48.977Z"
   },
   {
    "duration": 4,
    "start_time": "2022-11-23T05:38:49.012Z"
   },
   {
    "duration": 16,
    "start_time": "2022-11-23T05:38:49.018Z"
   },
   {
    "duration": 15,
    "start_time": "2022-11-23T05:38:49.036Z"
   },
   {
    "duration": 11,
    "start_time": "2022-11-23T05:38:49.053Z"
   },
   {
    "duration": 7,
    "start_time": "2022-11-23T05:38:49.065Z"
   },
   {
    "duration": 32,
    "start_time": "2022-11-23T05:38:49.074Z"
   },
   {
    "duration": 5,
    "start_time": "2022-11-23T05:38:49.108Z"
   },
   {
    "duration": 222,
    "start_time": "2022-11-23T05:38:49.115Z"
   },
   {
    "duration": 317,
    "start_time": "2022-11-23T05:38:49.339Z"
   },
   {
    "duration": 4704,
    "start_time": "2022-11-23T05:38:49.658Z"
   },
   {
    "duration": 7,
    "start_time": "2022-11-23T05:38:54.364Z"
   },
   {
    "duration": 7,
    "start_time": "2022-11-23T05:38:54.373Z"
   },
   {
    "duration": 203,
    "start_time": "2022-11-23T05:38:54.381Z"
   },
   {
    "duration": 1182,
    "start_time": "2022-11-23T05:38:54.586Z"
   },
   {
    "duration": 447,
    "start_time": "2022-11-23T05:38:55.770Z"
   },
   {
    "duration": 214,
    "start_time": "2022-11-23T05:38:56.219Z"
   },
   {
    "duration": 1460,
    "start_time": "2022-11-23T05:38:56.436Z"
   },
   {
    "duration": 198,
    "start_time": "2022-11-23T05:38:57.904Z"
   },
   {
    "duration": 256,
    "start_time": "2022-11-23T05:38:58.104Z"
   },
   {
    "duration": 5,
    "start_time": "2022-11-23T05:38:58.361Z"
   },
   {
    "duration": 692,
    "start_time": "2022-11-23T05:38:58.367Z"
   },
   {
    "duration": 625,
    "start_time": "2022-11-23T05:38:59.061Z"
   },
   {
    "duration": 477,
    "start_time": "2022-11-23T05:38:59.688Z"
   },
   {
    "duration": 8,
    "start_time": "2022-11-23T05:39:00.167Z"
   },
   {
    "duration": 19,
    "start_time": "2022-11-23T05:39:00.176Z"
   },
   {
    "duration": 37,
    "start_time": "2022-11-23T05:39:00.197Z"
   },
   {
    "duration": 17,
    "start_time": "2022-11-23T05:39:00.235Z"
   },
   {
    "duration": 327,
    "start_time": "2022-11-23T05:39:59.828Z"
   },
   {
    "duration": 4824,
    "start_time": "2022-11-23T05:40:32.131Z"
   },
   {
    "duration": 4958,
    "start_time": "2022-11-23T05:40:38.690Z"
   },
   {
    "duration": 176,
    "start_time": "2022-11-23T05:40:57.730Z"
   },
   {
    "duration": 172,
    "start_time": "2022-11-23T05:42:33.966Z"
   },
   {
    "duration": 227,
    "start_time": "2022-11-23T05:42:43.530Z"
   },
   {
    "duration": 750,
    "start_time": "2022-11-23T05:43:11.947Z"
   },
   {
    "duration": 608,
    "start_time": "2022-11-23T05:43:35.167Z"
   },
   {
    "duration": 525,
    "start_time": "2022-11-23T05:43:48.081Z"
   },
   {
    "duration": 473,
    "start_time": "2022-11-23T05:44:04.951Z"
   },
   {
    "duration": 3,
    "start_time": "2022-11-23T05:44:15.469Z"
   },
   {
    "duration": 61,
    "start_time": "2022-11-23T05:44:15.474Z"
   },
   {
    "duration": 13,
    "start_time": "2022-11-23T05:44:15.537Z"
   },
   {
    "duration": 13,
    "start_time": "2022-11-23T05:44:15.551Z"
   },
   {
    "duration": 695,
    "start_time": "2022-11-23T05:44:15.566Z"
   },
   {
    "duration": 5,
    "start_time": "2022-11-23T05:44:16.262Z"
   },
   {
    "duration": 9,
    "start_time": "2022-11-23T05:44:16.269Z"
   },
   {
    "duration": 10,
    "start_time": "2022-11-23T05:44:16.279Z"
   },
   {
    "duration": 10,
    "start_time": "2022-11-23T05:44:16.304Z"
   },
   {
    "duration": 15,
    "start_time": "2022-11-23T05:44:16.316Z"
   },
   {
    "duration": 14,
    "start_time": "2022-11-23T05:44:16.333Z"
   },
   {
    "duration": 13,
    "start_time": "2022-11-23T05:44:16.348Z"
   },
   {
    "duration": 44,
    "start_time": "2022-11-23T05:44:16.362Z"
   },
   {
    "duration": 5,
    "start_time": "2022-11-23T05:44:16.545Z"
   },
   {
    "duration": 14,
    "start_time": "2022-11-23T05:44:16.552Z"
   },
   {
    "duration": 13,
    "start_time": "2022-11-23T05:44:16.567Z"
   },
   {
    "duration": 24,
    "start_time": "2022-11-23T05:44:16.581Z"
   },
   {
    "duration": 5,
    "start_time": "2022-11-23T05:44:16.606Z"
   },
   {
    "duration": 9,
    "start_time": "2022-11-23T05:44:16.612Z"
   },
   {
    "duration": 6,
    "start_time": "2022-11-23T05:44:16.623Z"
   },
   {
    "duration": 220,
    "start_time": "2022-11-23T05:44:16.631Z"
   },
   {
    "duration": 315,
    "start_time": "2022-11-23T05:44:16.853Z"
   },
   {
    "duration": 4703,
    "start_time": "2022-11-23T05:44:17.170Z"
   },
   {
    "duration": 7,
    "start_time": "2022-11-23T05:44:21.875Z"
   },
   {
    "duration": 21,
    "start_time": "2022-11-23T05:44:21.884Z"
   },
   {
    "duration": 192,
    "start_time": "2022-11-23T05:44:21.906Z"
   },
   {
    "duration": 1417,
    "start_time": "2022-11-23T05:44:22.099Z"
   },
   {
    "duration": 235,
    "start_time": "2022-11-23T05:44:23.518Z"
   },
   {
    "duration": 192,
    "start_time": "2022-11-23T05:44:23.754Z"
   },
   {
    "duration": 1519,
    "start_time": "2022-11-23T05:44:23.947Z"
   },
   {
    "duration": 198,
    "start_time": "2022-11-23T05:44:25.467Z"
   },
   {
    "duration": 212,
    "start_time": "2022-11-23T05:44:25.667Z"
   },
   {
    "duration": 4,
    "start_time": "2022-11-23T05:44:25.881Z"
   },
   {
    "duration": 794,
    "start_time": "2022-11-23T05:44:25.887Z"
   },
   {
    "duration": 703,
    "start_time": "2022-11-23T05:44:26.683Z"
   },
   {
    "duration": 516,
    "start_time": "2022-11-23T05:44:27.388Z"
   },
   {
    "duration": 8,
    "start_time": "2022-11-23T05:44:27.906Z"
   },
   {
    "duration": 8,
    "start_time": "2022-11-23T05:44:27.916Z"
   },
   {
    "duration": 12,
    "start_time": "2022-11-23T05:44:27.926Z"
   },
   {
    "duration": 7,
    "start_time": "2022-11-23T05:44:27.940Z"
   },
   {
    "duration": 1448,
    "start_time": "2022-11-23T08:02:31.644Z"
   },
   {
    "duration": 226,
    "start_time": "2022-11-23T08:02:33.094Z"
   },
   {
    "duration": 21,
    "start_time": "2022-11-23T08:02:33.322Z"
   },
   {
    "duration": 25,
    "start_time": "2022-11-23T08:02:33.345Z"
   },
   {
    "duration": 934,
    "start_time": "2022-11-23T08:02:33.373Z"
   },
   {
    "duration": 5,
    "start_time": "2022-11-23T08:02:34.308Z"
   },
   {
    "duration": 16,
    "start_time": "2022-11-23T08:02:34.315Z"
   },
   {
    "duration": 21,
    "start_time": "2022-11-23T08:02:34.333Z"
   },
   {
    "duration": 13,
    "start_time": "2022-11-23T08:02:34.356Z"
   },
   {
    "duration": 88,
    "start_time": "2022-11-23T08:02:34.371Z"
   },
   {
    "duration": 20,
    "start_time": "2022-11-23T08:02:34.462Z"
   },
   {
    "duration": 19,
    "start_time": "2022-11-23T08:02:34.486Z"
   },
   {
    "duration": 17,
    "start_time": "2022-11-23T08:02:34.507Z"
   },
   {
    "duration": 6,
    "start_time": "2022-11-23T08:02:34.559Z"
   },
   {
    "duration": 36,
    "start_time": "2022-11-23T08:02:34.567Z"
   },
   {
    "duration": 18,
    "start_time": "2022-11-23T08:02:34.605Z"
   },
   {
    "duration": 20,
    "start_time": "2022-11-23T08:02:34.624Z"
   },
   {
    "duration": 9,
    "start_time": "2022-11-23T08:02:34.645Z"
   },
   {
    "duration": 11,
    "start_time": "2022-11-23T08:02:34.656Z"
   },
   {
    "duration": 7,
    "start_time": "2022-11-23T08:02:34.669Z"
   },
   {
    "duration": 236,
    "start_time": "2022-11-23T08:02:34.678Z"
   },
   {
    "duration": 375,
    "start_time": "2022-11-23T08:02:34.916Z"
   },
   {
    "duration": 5757,
    "start_time": "2022-11-23T08:02:35.294Z"
   },
   {
    "duration": 7,
    "start_time": "2022-11-23T08:02:41.052Z"
   },
   {
    "duration": 12,
    "start_time": "2022-11-23T08:02:41.060Z"
   },
   {
    "duration": 245,
    "start_time": "2022-11-23T08:02:41.073Z"
   },
   {
    "duration": 1399,
    "start_time": "2022-11-23T08:02:41.321Z"
   },
   {
    "duration": 478,
    "start_time": "2022-11-23T08:02:42.722Z"
   },
   {
    "duration": 221,
    "start_time": "2022-11-23T08:02:43.202Z"
   },
   {
    "duration": 1525,
    "start_time": "2022-11-23T08:02:43.425Z"
   },
   {
    "duration": 222,
    "start_time": "2022-11-23T08:02:44.952Z"
   },
   {
    "duration": 243,
    "start_time": "2022-11-23T08:02:45.176Z"
   },
   {
    "duration": 5,
    "start_time": "2022-11-23T08:02:45.421Z"
   },
   {
    "duration": 741,
    "start_time": "2022-11-23T08:02:45.429Z"
   },
   {
    "duration": 685,
    "start_time": "2022-11-23T08:02:46.172Z"
   },
   {
    "duration": 503,
    "start_time": "2022-11-23T08:02:46.859Z"
   },
   {
    "duration": 8,
    "start_time": "2022-11-23T08:02:47.363Z"
   },
   {
    "duration": 13,
    "start_time": "2022-11-23T08:02:47.373Z"
   },
   {
    "duration": 15,
    "start_time": "2022-11-23T08:02:47.389Z"
   },
   {
    "duration": 6,
    "start_time": "2022-11-23T08:02:47.406Z"
   }
  ],
  "kernelspec": {
   "display_name": "Python 3 (ipykernel)",
   "language": "python",
   "name": "python3"
  },
  "language_info": {
   "codemirror_mode": {
    "name": "ipython",
    "version": 3
   },
   "file_extension": ".py",
   "mimetype": "text/x-python",
   "name": "python",
   "nbconvert_exporter": "python",
   "pygments_lexer": "ipython3",
   "version": "3.9.5"
  },
  "toc": {
   "base_numbering": 1,
   "nav_menu": {},
   "number_sections": true,
   "sideBar": true,
   "skip_h1_title": true,
   "title_cell": "Table of Contents",
   "title_sidebar": "Contents",
   "toc_cell": false,
   "toc_position": {},
   "toc_section_display": true,
   "toc_window_display": false
  }
 },
 "nbformat": 4,
 "nbformat_minor": 2
}
